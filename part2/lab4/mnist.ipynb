{
  "cells": [
    {
      "cell_type": "code",
      "execution_count": 1,
      "metadata": {
        "id": "tHTAwRYupzED"
      },
      "outputs": [
        {
          "name": "stderr",
          "output_type": "stream",
          "text": [
            "/Users/wibbn/.pyenv/versions/3.9.9/envs/ml/lib/python3.9/site-packages/torchvision/io/image.py:11: UserWarning: Failed to load image Python extension: dlopen(/Users/wibbn/.pyenv/versions/3.9.9/envs/ml/lib/python3.9/site-packages/torchvision/image.so, 0x0006): Library not loaded: @rpath/libpng16.16.dylib\n",
            "  Referenced from: /Users/wibbn/.pyenv/versions/3.9.9/envs/ml/lib/python3.9/site-packages/torchvision/image.so\n",
            "  Reason: tried: '/Users/malfet/miniforge3/envs/py_39_torch-1.10.2/lib/libpng16.16.dylib' (no such file), '/Users/malfet/miniforge3/envs/py_39_torch-1.10.2/lib/libpng16.16.dylib' (no such file), '/Users/malfet/miniforge3/envs/py_39_torch-1.10.2/lib/libpng16.16.dylib' (no such file), '/Users/malfet/miniforge3/envs/py_39_torch-1.10.2/lib/libpng16.16.dylib' (no such file), '/usr/local/lib/libpng16.16.dylib' (no such file), '/usr/lib/libpng16.16.dylib' (no such file)\n",
            "  warn(f\"Failed to load image Python extension: {e}\")\n"
          ]
        }
      ],
      "source": [
        "import torch\n",
        "import torch.nn as nn\n",
        "\n",
        "import torch.optim as optim\n",
        "\n",
        "from torchvision.transforms import ToTensor\n",
        "from torchvision.datasets import MNIST\n",
        "from torch.utils.data import Dataset, DataLoader\n",
        "\n",
        "from torchsummary import summary\n",
        "\n",
        "from itertools import chain\n",
        "from matplotlib import pyplot as plt\n",
        "from matplotlib.animation import FuncAnimation\n",
        "\n",
        "import numpy as np\n",
        "from sklearn.manifold import TSNE\n",
        "from sklearn.metrics import accuracy_score\n",
        "\n",
        "from tqdm import tqdm"
      ]
    },
    {
      "cell_type": "code",
      "execution_count": null,
      "metadata": {
        "id": "bFXa5lDbp7MM"
      },
      "outputs": [],
      "source": [
        "# В этой части лабораторной работы вам предстоит реализовать и обучить автокодировочную сеть на наборе данных MNIST.\n",
        "# Сценарий выполнения кода:\n",
        "# 1. Обучение автокодировщика.\n",
        "# 2. Отображение проекции скрытого пространства на плоскость для визуальной оценки распределения данных в скрытом пространстве.\n",
        "# 3. Интерполяция между несколькими точками в скрытом пространстве, декодирование промежуточных точек в исходное пространство\n",
        "# и анимация результата.\n",
        "# 4. Обучение простого классификатора на исходных данных (изображениях цифр) и на векторах в скрытом пространстве.\n",
        "# 5. Проверка полученных классификаторов на тестовых данных."
      ]
    },
    {
      "cell_type": "code",
      "execution_count": 2,
      "metadata": {
        "id": "4l76G_1sp8lT"
      },
      "outputs": [],
      "source": [
        "class Encoder(nn.Module):\n",
        "    # Класс кодивщика, необходимо реализовать.\n",
        "\n",
        "    def __init__(self, inputs, latent_size):\n",
        "        super().__init__()\n",
        "        # ВАШ КОД ЗДЕСЬ\n",
        "        self.convs = nn.Sequential(\n",
        "            nn.Conv2d(1, 4, 3, 1, 1),\n",
        "            nn.ReLU()\n",
        "        )\n",
        "\n",
        "        self.linear = nn.Linear(4*28*28, latent_size)\n",
        "        # ============\n",
        "\n",
        "    def forward(self, x):\n",
        "        # ВАШ КОД ЗДЕСЬ\n",
        "        # print(x.shape)\n",
        "        x = self.convs(x)\n",
        "        x = x.view(x.size(0), -1)\n",
        "        # print(x.shape)\n",
        "        x = self.linear(x)\n",
        "        # print(x.shape)\n",
        "        # ============\n",
        "        return x\n",
        "\n",
        "\n",
        "class Decoder(nn.Module):\n",
        "    # Класс декодировщика, необходимо реализовать.\n",
        "\n",
        "    def __init__(self, latent_size, outputs):\n",
        "        super().__init__()\n",
        "        # ВАШ КОД ЗДЕСЬ\n",
        "        self.linear = nn.Linear(latent_size, 4*28*28)\n",
        "        self.upconvs = nn.Sequential(\n",
        "            nn.ReLU(),\n",
        "            nn.ConvTranspose2d(4, 1, 3, 1, 1),\n",
        "        )\n",
        "        # ============\n",
        "\n",
        "    def forward(self, x):\n",
        "        # ВАШ КОД ЗДЕСЬ\n",
        "        \n",
        "        x = self.linear(x)\n",
        "        x = x.view(x.size(0), -1, 28, 28)\n",
        "        x = self.upconvs(x)\n",
        "        # ============\n",
        "        return x\n",
        "\n",
        "\n",
        "class SimpleClassifier(nn.Module):\n",
        "    # Класс простого классификатора.\n",
        "\n",
        "    def __init__(self, inputs, outputs):\n",
        "        super().__init__()\n",
        "        self.fc = nn.Linear(inputs, outputs)\n",
        "\n",
        "        self._inputs = inputs\n",
        "\n",
        "    def forward(self, x):\n",
        "        x = x.reshape(-1, self._inputs)\n",
        "        x = self.fc(x)\n",
        "        return x\n",
        "\n",
        "class LatentSpaceDataset(Dataset):\n",
        "    # Класс для преобразования изображений в вектора скрытого пространства.\n",
        "\n",
        "    def __init__(self, orig_space_data_loader, encoder):\n",
        "        super().__init__()\n",
        "        self._data = list()\n",
        "        for batch, target in orig_space_data_loader:\n",
        "            latent_space_imgs = encoder(batch).detach()\n",
        "            self._data.extend(zip(latent_space_imgs, target))\n",
        "\n",
        "    def __len__(self):\n",
        "        return len(self._data)\n",
        "\n",
        "    def __getitem__(self, i):\n",
        "        return self._data[i]"
      ]
    },
    {
      "cell_type": "code",
      "execution_count": 3,
      "metadata": {
        "id": "uz_fhTdLqCLW"
      },
      "outputs": [],
      "source": [
        "def train_ae(data_loader, encoder, decoder, epochs, lr):\n",
        "    # Функция для обучения автокодировщика.\n",
        "    # Принимает на вход загрузчик тренеровочных данных,\n",
        "    # кодировщик, декодировщик, количество эпох для обучения и скорость обучения.\n",
        "\n",
        "    encoder.train()\n",
        "    decoder.train()\n",
        "\n",
        "    print('Обучение автокодировщика..')\n",
        "\n",
        "    loss_func = nn.MSELoss()  # функция потерь, нужно выбрать.\n",
        "    optimizer = torch.optim.AdamW(chain(decoder.parameters(), encoder.parameters()))  # оптимизатор, нужно выбрать.\n",
        "    loss_history = list()\n",
        "    for epoch in tqdm(range(epochs)):\n",
        "        for i, (batch, _) in enumerate(data_loader):\n",
        "            # ВАШ КОД ЗДЕСЬ\n",
        "            # batch = batch.reshape(batch.shape[0], -1)\n",
        "            optimizer.zero_grad()\n",
        "            forwd = encoder(batch)\n",
        "            loss = loss_func(decoder(forwd), batch) # потери на пакете, нужно вычислить.\n",
        "            loss.backward()\n",
        "            optimizer.step()\n",
        "            loss_history.append(loss.log().item())\n",
        "            # ============\n",
        "        print(f'Эпоха {epoch + 1} / {epochs}. Потери на последнем пакете: {loss.item()}')\n",
        "\n",
        "    print('Готово!')\n",
        "\n",
        "    encoder.eval()\n",
        "    decoder.eval()\n",
        "\n",
        "    plt.plot(loss_history)\n",
        "    plt.show()\n",
        "\n",
        "\n",
        "def train_classifier(data_loader, model, epochs, lr):\n",
        "    # Функция для обучения классификатора.\n",
        "\n",
        "    loss_func = nn.CrossEntropyLoss()\n",
        "    optimizer = optim.Adam(model.parameters(), lr=lr)\n",
        "    model.train()\n",
        "    print('Обучение классификатора..')\n",
        "    for epoch in range(epochs):\n",
        "        for i, (batch, target) in enumerate(data_loader):\n",
        "            optimizer.zero_grad()\n",
        "            loss = loss_func(model(batch), target)\n",
        "            loss.backward()\n",
        "            optimizer.step()\n",
        "        print(f'Эпоха {epoch + 1} / {epochs}. Потери на последнем пакете: {loss.item()}')\n",
        "    print('Готово!')\n",
        "    model.eval()\n",
        "\n",
        "\n",
        "def test_classifier(data_loader, classifier):\n",
        "    # Функция для тестирования классификатора.\n",
        "\n",
        "    batch, target = next(iter(data_loader))\n",
        "    print(accuracy_score(torch.argmax(classifier(batch), dim=1).detach().numpy(), target))\n",
        "\n",
        "\n",
        "def lerp(v1, v2, t):\n",
        "    # Функция для линейной интерполяции между двумя векторами.\n",
        "    return v1 * (1 - t) + v2 * t\n",
        "\n",
        "\n",
        "def get_frame(i, data):\n",
        "    # Функция для анимации\n",
        "    i = min(i, len(data) - 1)\n",
        "    ax.clear()\n",
        "    ax.imshow(data[i])"
      ]
    },
    {
      "cell_type": "code",
      "execution_count": 4,
      "metadata": {
        "id": "Xka4A1MlqD2V"
      },
      "outputs": [],
      "source": [
        "LATENT_SIZE = 64  # размерность скрытого пространства, можно варьировать.\n",
        "\n",
        "BATCH_SIZE = 256\n",
        "EPOCHS = 10\n",
        "LEARNING_RATE = 1e-4\n",
        "\n",
        "ANIMATION_IMAGES = 5\n",
        "ANIMATION_N_FRAMES = (ANIMATION_IMAGES - 1) * 20\n",
        "ANIMATION_INTERVAL = 50"
      ]
    },
    {
      "cell_type": "code",
      "execution_count": 5,
      "metadata": {
        "colab": {
          "base_uri": "https://localhost:8080/"
        },
        "id": "YD2Ln47YqP9Q",
        "outputId": "fcad8ce5-f17a-4531-a7c9-895bd89d2a70"
      },
      "outputs": [
        {
          "name": "stdout",
          "output_type": "stream",
          "text": [
            "Архитектура кодировщика: \n",
            "\n",
            "Архитектура декодировщика: \n"
          ]
        }
      ],
      "source": [
        "encoder = Encoder(28 * 28, LATENT_SIZE)\n",
        "decoder = Decoder(LATENT_SIZE,  28 * 28)\n",
        "\n",
        "print('Архитектура кодировщика: ')\n",
        "# summary(encoder, [[28 * 28]])\n",
        "print()\n",
        "print('Архитектура декодировщика: ')\n",
        "# summary(decoder, [[LATENT_SIZE]])"
      ]
    },
    {
      "cell_type": "code",
      "execution_count": 50,
      "metadata": {
        "colab": {
          "base_uri": "https://localhost:8080/",
          "height": 423,
          "referenced_widgets": [
            "158de42e14eb48d0bfa39389d44d9f5b",
            "8f899eec1a0644aa873c32adb90d90b1",
            "c29978f721ff497b96aa9d9b03d677c8",
            "52c1015b6d2646d580053f39cd8392d8",
            "7d81956d0c9946babcfd06bb87ecdc9a",
            "1f07ee35196248d693da77be4943376e",
            "b7aecaedfdf54a5ca1d3919afcde0acd",
            "3213bd4ed97e464c8db911da353bdfe0",
            "3669b762d8354d56a6e502947e072e50",
            "d66e132a39c3471281861f9d138539ca",
            "551206d0668f42f0810d775d4cb7bfc3",
            "40b5466ae71c4ef19ed1f183160857d5",
            "308ad901540b4680b69c3190ba612139",
            "dec11ed0e10d478d9819953ad5bd4d4e",
            "2313773fd2a442219ac33593761f8fd6",
            "31a992e37c6e40eea4c9b8f3e3cf1fb3",
            "3213444e29da4e43a3fa5801b66ea721",
            "e955b50c2151447b984bd7ba2c5a4a79",
            "13ac8d35dc82413096a6fbff04c80d6b",
            "7e581a8847804eedaeafff9a4cad4772",
            "5529dc48fa344f9d92734d281d250cfd",
            "06adbda6daf64f7fa41d4e67b631a97f",
            "7411e818d8bb4445b5a70d38017efe08",
            "3b98dfb924cf4ba5a5ea5c5aaf978cc8",
            "a01c5de7d89e407ab06a1d7d0f3461eb",
            "97f8874cb7ee47339966f9a6e05fe3f8",
            "d82dde194f9348fa944b8381dda0a0f0",
            "50737e8822e9469f9bc3465714be4c71",
            "491e5bf9caa24a3c87035d80c7514350",
            "b6ecceb3d0d34819b03d5e8f0163e905",
            "340866d2fc684d37a50802da57e11a78",
            "08e49769a3fc4b19b485a5aa02aa4545",
            "232e3075919d45babab6e6792f50a178",
            "3cfaa2c8e3ae431baad7b80e6a9bacd8",
            "801b49a3802a49eaa73eb502fa049e65",
            "84fa0f48f1cb42ae9c90b1d6ba9948c9",
            "c2b2b103a4894a338dc57dee25c30c00",
            "a6a8d0e9d21b4ba0b4944a565a1eef30",
            "ab4a3f885f704e2b9601b2a17972e7a2",
            "01a455a30e414211967d87edc4d755d1",
            "edddb684f6334102a4336983ffd7ceb7",
            "27cfe3f6ebea4502ac9f45b6cfe4bd97",
            "be42ec7502aa490ebad67ff4d2a1040b",
            "56c291899f9f4507a76b22ccad3b006d"
          ]
        },
        "id": "TghTHoFmqMrn",
        "outputId": "378e5ff5-8a3f-497a-af38-4b4b3f5e4860"
      },
      "outputs": [],
      "source": [
        "train_data = MNIST('data', train=True, download=True, transform=ToTensor())\n",
        "test_data = MNIST('data', train=False, download=True, transform=ToTensor())\n",
        "train_data_loader = DataLoader(train_data, batch_size=BATCH_SIZE, shuffle=True)"
      ]
    },
    {
      "cell_type": "code",
      "execution_count": 51,
      "metadata": {
        "colab": {
          "base_uri": "https://localhost:8080/",
          "height": 491
        },
        "id": "geSnMSDRqVwu",
        "outputId": "bd1b4d20-21c3-4bcc-9799-673495a96c66"
      },
      "outputs": [
        {
          "name": "stdout",
          "output_type": "stream",
          "text": [
            "Обучение автокодировщика..\n"
          ]
        },
        {
          "name": "stderr",
          "output_type": "stream",
          "text": [
            " 10%|█         | 1/10 [00:05<00:47,  5.32s/it]"
          ]
        },
        {
          "name": "stdout",
          "output_type": "stream",
          "text": [
            "Эпоха 1 / 10. Потери на последнем пакете: 0.019910115748643875\n"
          ]
        },
        {
          "name": "stderr",
          "output_type": "stream",
          "text": [
            " 20%|██        | 2/10 [00:10<00:43,  5.39s/it]"
          ]
        },
        {
          "name": "stdout",
          "output_type": "stream",
          "text": [
            "Эпоха 2 / 10. Потери на последнем пакете: 0.012546943500638008\n"
          ]
        },
        {
          "name": "stderr",
          "output_type": "stream",
          "text": [
            " 30%|███       | 3/10 [00:16<00:37,  5.40s/it]"
          ]
        },
        {
          "name": "stdout",
          "output_type": "stream",
          "text": [
            "Эпоха 3 / 10. Потери на последнем пакете: 0.008829476311802864\n"
          ]
        },
        {
          "name": "stderr",
          "output_type": "stream",
          "text": [
            " 40%|████      | 4/10 [00:21<00:32,  5.36s/it]"
          ]
        },
        {
          "name": "stdout",
          "output_type": "stream",
          "text": [
            "Эпоха 4 / 10. Потери на последнем пакете: 0.009240085259079933\n"
          ]
        },
        {
          "name": "stderr",
          "output_type": "stream",
          "text": [
            " 50%|█████     | 5/10 [00:26<00:26,  5.33s/it]"
          ]
        },
        {
          "name": "stdout",
          "output_type": "stream",
          "text": [
            "Эпоха 5 / 10. Потери на последнем пакете: 0.00785311870276928\n"
          ]
        },
        {
          "name": "stderr",
          "output_type": "stream",
          "text": [
            " 60%|██████    | 6/10 [00:32<00:21,  5.31s/it]"
          ]
        },
        {
          "name": "stdout",
          "output_type": "stream",
          "text": [
            "Эпоха 6 / 10. Потери на последнем пакете: 0.007475225254893303\n"
          ]
        },
        {
          "name": "stderr",
          "output_type": "stream",
          "text": [
            " 70%|███████   | 7/10 [00:37<00:15,  5.31s/it]"
          ]
        },
        {
          "name": "stdout",
          "output_type": "stream",
          "text": [
            "Эпоха 7 / 10. Потери на последнем пакете: 0.007680687587708235\n"
          ]
        },
        {
          "name": "stderr",
          "output_type": "stream",
          "text": [
            " 80%|████████  | 8/10 [00:42<00:10,  5.36s/it]"
          ]
        },
        {
          "name": "stdout",
          "output_type": "stream",
          "text": [
            "Эпоха 8 / 10. Потери на последнем пакете: 0.007197199389338493\n"
          ]
        },
        {
          "name": "stderr",
          "output_type": "stream",
          "text": [
            " 90%|█████████ | 9/10 [00:48<00:05,  5.38s/it]"
          ]
        },
        {
          "name": "stdout",
          "output_type": "stream",
          "text": [
            "Эпоха 9 / 10. Потери на последнем пакете: 0.0073774573393166065\n"
          ]
        },
        {
          "name": "stderr",
          "output_type": "stream",
          "text": [
            "100%|██████████| 10/10 [00:53<00:00,  5.36s/it]"
          ]
        },
        {
          "name": "stdout",
          "output_type": "stream",
          "text": [
            "Эпоха 10 / 10. Потери на последнем пакете: 0.0063787708058953285\n",
            "Готово!\n"
          ]
        },
        {
          "name": "stderr",
          "output_type": "stream",
          "text": [
            "\n"
          ]
        },
        {
          "data": {
            "image/png": "[encoded data removed]",
            "text/plain": [
              "<Figure size 432x288 with 1 Axes>"
            ]
          },
          "metadata": {},
          "output_type": "display_data"
        }
      ],
      "source": [
        "train_ae(train_data_loader, encoder, decoder, EPOCHS, LEARNING_RATE)"
      ]
    },
    {
      "cell_type": "code",
      "execution_count": 52,
      "metadata": {
        "colab": {
          "base_uri": "https://localhost:8080/",
          "height": 369
        },
        "id": "qEU1PDsJqhdy",
        "outputId": "8fc18f74-95c2-4051-e987-262c40dfeed7"
      },
      "outputs": [
        {
          "name": "stdout",
          "output_type": "stream",
          "text": [
            "Проецирование скрытого пространства на плоскость..\n"
          ]
        },
        {
          "name": "stderr",
          "output_type": "stream",
          "text": [
            "/Users/wibbn/.pyenv/versions/3.9.9/envs/ml/lib/python3.9/site-packages/sklearn/manifold/_t_sne.py:780: FutureWarning: The default initialization in TSNE will change from 'random' to 'pca' in 1.2.\n",
            "  warnings.warn(\n",
            "/Users/wibbn/.pyenv/versions/3.9.9/envs/ml/lib/python3.9/site-packages/sklearn/manifold/_t_sne.py:790: FutureWarning: The default learning rate in TSNE will change from 200.0 to 'auto' in 1.2.\n",
            "  warnings.warn(\n"
          ]
        },
        {
          "name": "stdout",
          "output_type": "stream",
          "text": [
            "Готово!\n"
          ]
        },
        {
          "data": {
            "image/png": "[encoded data removed]",
            "text/plain": [
              "<Figure size 432x288 with 1 Axes>"
            ]
          },
          "metadata": {},
          "output_type": "display_data"
        }
      ],
      "source": [
        "test_imgs = list()\n",
        "for batch, target in train_data_loader:\n",
        "    test_imgs.extend(zip(batch, target))\n",
        "    if len(test_imgs) > 5000:\n",
        "        break\n",
        "imgs_list, targets = zip(*test_imgs)\n",
        "imgs = torch.stack(imgs_list)\n",
        "\n",
        "print('Проецирование скрытого пространства на плоскость..')\n",
        "tsne = TSNE()\n",
        "latent_imgs_emb = [encoder(img.unsqueeze(0))[0].detach().numpy() for img in imgs]\n",
        "latent_imgs_emb = tsne.fit_transform(np.array(latent_imgs_emb))\n",
        "x, y = zip(*latent_imgs_emb)\n",
        "plt.scatter(x, y, c=targets)\n",
        "print('Готово!')\n",
        "plt.show()"
      ]
    },
    {
      "cell_type": "code",
      "execution_count": 53,
      "metadata": {
        "colab": {
          "base_uri": "https://localhost:8080/",
          "height": 1000
        },
        "id": "tVcvNrxGytGI",
        "outputId": "ca1749a1-a4c7-4d83-a630-8ae34b3eac8e"
      },
      "outputs": [
        {
          "data": {
            "image/png": "[encoded data removed]",
            "text/plain": [
              "<Figure size 432x288 with 1 Axes>"
            ]
          },
          "metadata": {},
          "output_type": "display_data"
        },
        {
          "data": {
            "image/png": "[encoded data removed]",
            "text/plain": [
              "<Figure size 432x288 with 1 Axes>"
            ]
          },
          "metadata": {},
          "output_type": "display_data"
        },
        {
          "data": {
            "image/png": "[encoded data removed]",
            "text/plain": [
              "<Figure size 432x288 with 1 Axes>"
            ]
          },
          "metadata": {},
          "output_type": "display_data"
        },
        {
          "data": {
            "image/png": "[encoded data removed]",
            "text/plain": [
              "<Figure size 432x288 with 1 Axes>"
            ]
          },
          "metadata": {},
          "output_type": "display_data"
        },
        {
          "data": {
            "image/png": "[encoded data removed]",
            "text/plain": [
              "<Figure size 432x288 with 1 Axes>"
            ]
          },
          "metadata": {},
          "output_type": "display_data"
        }
      ],
      "source": [
        "latent_imgs = encoder(imgs)\n",
        "restored_imgs = decoder(latent_imgs)\n",
        "\n",
        "restored_imgs = restored_imgs.reshape(-1, 1, 28, 28)\n",
        "\n",
        "# print()\n",
        "# print(imgs[1][0].shape)\n",
        "# print()\n",
        "# # print(restored_imgs[1][0].detach())\n",
        "# print(restored_imgs.shape)\n",
        "# print(torch.reshape(restored_imgs, (-1, 1, 28, 28)).shape)\n",
        "# print(torch.reshape(restored_imgs, (-1, 1, 28, 28))[1][0].detach().shape)\n",
        "# print(torch.reshape(restored_imgs[1].detach(), (28, 28)).shape)\n",
        "# print()\n",
        "\n",
        "for i in range(5):\n",
        "    orig_restored = torch.hstack((imgs[i][0], restored_imgs[i][0].detach()))\n",
        "    plt.imshow(orig_restored.numpy(), cmap='Greys')\n",
        "    plt.show()"
      ]
    },
    {
      "cell_type": "code",
      "execution_count": 54,
      "metadata": {
        "colab": {
          "base_uri": "https://localhost:8080/"
        },
        "id": "tDN9CzaO-P7K",
        "outputId": "d8360371-4abf-43e3-9610-ee549d489c9c"
      },
      "outputs": [
        {
          "name": "stdout",
          "output_type": "stream",
          "text": [
            "Обучение классификатора..\n",
            "Эпоха 1 / 10. Потери на последнем пакете: 1.5339723825454712\n",
            "Эпоха 2 / 10. Потери на последнем пакете: 1.10910165309906\n",
            "Эпоха 3 / 10. Потери на последнем пакете: 0.8813137412071228\n",
            "Эпоха 4 / 10. Потери на последнем пакете: 0.7706953883171082\n",
            "Эпоха 5 / 10. Потери на последнем пакете: 0.7408669590950012\n",
            "Эпоха 6 / 10. Потери на последнем пакете: 0.6204590797424316\n",
            "Эпоха 7 / 10. Потери на последнем пакете: 0.5721753239631653\n",
            "Эпоха 8 / 10. Потери на последнем пакете: 0.4083259105682373\n",
            "Эпоха 9 / 10. Потери на последнем пакете: 0.4159657657146454\n",
            "Эпоха 10 / 10. Потери на последнем пакете: 0.43943658471107483\n",
            "Готово!\n",
            "Обучение классификатора..\n",
            "Эпоха 1 / 10. Потери на последнем пакете: 2.1977858543395996\n",
            "Эпоха 2 / 10. Потери на последнем пакете: 2.028667449951172\n",
            "Эпоха 3 / 10. Потери на последнем пакете: 1.7882933616638184\n",
            "Эпоха 4 / 10. Потери на последнем пакете: 1.7242177724838257\n",
            "Эпоха 5 / 10. Потери на последнем пакете: 1.534070372581482\n",
            "Эпоха 6 / 10. Потери на последнем пакете: 1.4214555025100708\n",
            "Эпоха 7 / 10. Потери на последнем пакете: 1.313332200050354\n",
            "Эпоха 8 / 10. Потери на последнем пакете: 1.170789122581482\n",
            "Эпоха 9 / 10. Потери на последнем пакете: 1.1226216554641724\n",
            "Эпоха 10 / 10. Потери на последнем пакете: 0.9522705674171448\n",
            "Готово!\n",
            "0.896484375\n",
            "0.8046875\n"
          ]
        }
      ],
      "source": [
        "x_classifier = SimpleClassifier(28 * 28, 10)\n",
        "train_classifier(train_data_loader, x_classifier, epochs=10, lr=1e-4)\n",
        "\n",
        "latent_space_train_data_loader = DataLoader(LatentSpaceDataset(train_data_loader, encoder), batch_size=BATCH_SIZE, shuffle=True)\n",
        "\n",
        "z_classifier = SimpleClassifier(LATENT_SIZE, 10)\n",
        "train_classifier(latent_space_train_data_loader, z_classifier, epochs=10, lr=1e-4)\n",
        "\n",
        "orig_test_data_loader = DataLoader(test_data, batch_size=1024, shuffle=True)\n",
        "latent_test_data_loader = DataLoader(LatentSpaceDataset(orig_test_data_loader, encoder), batch_size=1024, shuffle=True)\n",
        "\n",
        "test_classifier(orig_test_data_loader, x_classifier)\n",
        "test_classifier(latent_test_data_loader, z_classifier)"
      ]
    },
    {
      "cell_type": "code",
      "execution_count": null,
      "metadata": {},
      "outputs": [],
      "source": []
    }
  ],
  "metadata": {
    "colab": {
      "collapsed_sections": [],
      "name": "mnist.ipynb",
      "provenance": []
    },
    "kernelspec": {
      "display_name": "Python 3",
      "name": "python3"
    },
    "language_info": {
      "codemirror_mode": {
        "name": "ipython",
        "version": 3
      },
      "file_extension": ".py",
      "mimetype": "text/x-python",
      "name": "python",
      "nbconvert_exporter": "python",
      "pygments_lexer": "ipython3",
      "version": "3.9.9"
    },
    "widgets": {
      "application/vnd.jupyter.widget-state+json": {
        "01a455a30e414211967d87edc4d755d1": {
          "model_module": "@jupyter-widgets/controls",
          "model_module_version": "1.5.0",
          "model_name": "DescriptionStyleModel",
          "state": {
            "_model_module": "@jupyter-widgets/controls",
            "_model_module_version": "1.5.0",
            "_model_name": "DescriptionStyleModel",
            "_view_count": null,
            "_view_module": "@jupyter-widgets/base",
            "_view_module_version": "1.2.0",
            "_view_name": "StyleView",
            "description_width": ""
          }
        },
        "06adbda6daf64f7fa41d4e67b631a97f": {
          "model_module": "@jupyter-widgets/controls",
          "model_module_version": "1.5.0",
          "model_name": "DescriptionStyleModel",
          "state": {
            "_model_module": "@jupyter-widgets/controls",
            "_model_module_version": "1.5.0",
            "_model_name": "DescriptionStyleModel",
            "_view_count": null,
            "_view_module": "@jupyter-widgets/base",
            "_view_module_version": "1.2.0",
            "_view_name": "StyleView",
            "description_width": ""
          }
        },
        "08e49769a3fc4b19b485a5aa02aa4545": {
          "model_module": "@jupyter-widgets/base",
          "model_module_version": "1.2.0",
          "model_name": "LayoutModel",
          "state": {
            "_model_module": "@jupyter-widgets/base",
            "_model_module_version": "1.2.0",
            "_model_name": "LayoutModel",
            "_view_count": null,
            "_view_module": "@jupyter-widgets/base",
            "_view_module_version": "1.2.0",
            "_view_name": "LayoutView",
            "align_content": null,
            "align_items": null,
            "align_self": null,
            "border": null,
            "bottom": null,
            "display": null,
            "flex": null,
            "flex_flow": null,
            "grid_area": null,
            "grid_auto_columns": null,
            "grid_auto_flow": null,
            "grid_auto_rows": null,
            "grid_column": null,
            "grid_gap": null,
            "grid_row": null,
            "grid_template_areas": null,
            "grid_template_columns": null,
            "grid_template_rows": null,
            "height": null,
            "justify_content": null,
            "justify_items": null,
            "left": null,
            "margin": null,
            "max_height": null,
            "max_width": null,
            "min_height": null,
            "min_width": null,
            "object_fit": null,
            "object_position": null,
            "order": null,
            "overflow": null,
            "overflow_x": null,
            "overflow_y": null,
            "padding": null,
            "right": null,
            "top": null,
            "visibility": null,
            "width": null
          }
        },
        "13ac8d35dc82413096a6fbff04c80d6b": {
          "model_module": "@jupyter-widgets/base",
          "model_module_version": "1.2.0",
          "model_name": "LayoutModel",
          "state": {
            "_model_module": "@jupyter-widgets/base",
            "_model_module_version": "1.2.0",
            "_model_name": "LayoutModel",
            "_view_count": null,
            "_view_module": "@jupyter-widgets/base",
            "_view_module_version": "1.2.0",
            "_view_name": "LayoutView",
            "align_content": null,
            "align_items": null,
            "align_self": null,
            "border": null,
            "bottom": null,
            "display": null,
            "flex": null,
            "flex_flow": null,
            "grid_area": null,
            "grid_auto_columns": null,
            "grid_auto_flow": null,
            "grid_auto_rows": null,
            "grid_column": null,
            "grid_gap": null,
            "grid_row": null,
            "grid_template_areas": null,
            "grid_template_columns": null,
            "grid_template_rows": null,
            "height": null,
            "justify_content": null,
            "justify_items": null,
            "left": null,
            "margin": null,
            "max_height": null,
            "max_width": null,
            "min_height": null,
            "min_width": null,
            "object_fit": null,
            "object_position": null,
            "order": null,
            "overflow": null,
            "overflow_x": null,
            "overflow_y": null,
            "padding": null,
            "right": null,
            "top": null,
            "visibility": null,
            "width": null
          }
        },
        "158de42e14eb48d0bfa39389d44d9f5b": {
          "model_module": "@jupyter-widgets/controls",
          "model_module_version": "1.5.0",
          "model_name": "HBoxModel",
          "state": {
            "_dom_classes": [],
            "_model_module": "@jupyter-widgets/controls",
            "_model_module_version": "1.5.0",
            "_model_name": "HBoxModel",
            "_view_count": null,
            "_view_module": "@jupyter-widgets/controls",
            "_view_module_version": "1.5.0",
            "_view_name": "HBoxView",
            "box_style": "",
            "children": [
              "IPY_MODEL_8f899eec1a0644aa873c32adb90d90b1",
              "IPY_MODEL_c29978f721ff497b96aa9d9b03d677c8",
              "IPY_MODEL_52c1015b6d2646d580053f39cd8392d8"
            ],
            "layout": "IPY_MODEL_7d81956d0c9946babcfd06bb87ecdc9a"
          }
        },
        "1f07ee35196248d693da77be4943376e": {
          "model_module": "@jupyter-widgets/base",
          "model_module_version": "1.2.0",
          "model_name": "LayoutModel",
          "state": {
            "_model_module": "@jupyter-widgets/base",
            "_model_module_version": "1.2.0",
            "_model_name": "LayoutModel",
            "_view_count": null,
            "_view_module": "@jupyter-widgets/base",
            "_view_module_version": "1.2.0",
            "_view_name": "LayoutView",
            "align_content": null,
            "align_items": null,
            "align_self": null,
            "border": null,
            "bottom": null,
            "display": null,
            "flex": null,
            "flex_flow": null,
            "grid_area": null,
            "grid_auto_columns": null,
            "grid_auto_flow": null,
            "grid_auto_rows": null,
            "grid_column": null,
            "grid_gap": null,
            "grid_row": null,
            "grid_template_areas": null,
            "grid_template_columns": null,
            "grid_template_rows": null,
            "height": null,
            "justify_content": null,
            "justify_items": null,
            "left": null,
            "margin": null,
            "max_height": null,
            "max_width": null,
            "min_height": null,
            "min_width": null,
            "object_fit": null,
            "object_position": null,
            "order": null,
            "overflow": null,
            "overflow_x": null,
            "overflow_y": null,
            "padding": null,
            "right": null,
            "top": null,
            "visibility": null,
            "width": null
          }
        },
        "2313773fd2a442219ac33593761f8fd6": {
          "model_module": "@jupyter-widgets/controls",
          "model_module_version": "1.5.0",
          "model_name": "HTMLModel",
          "state": {
            "_dom_classes": [],
            "_model_module": "@jupyter-widgets/controls",
            "_model_module_version": "1.5.0",
            "_model_name": "HTMLModel",
            "_view_count": null,
            "_view_module": "@jupyter-widgets/controls",
            "_view_module_version": "1.5.0",
            "_view_name": "HTMLView",
            "description": "",
            "description_tooltip": null,
            "layout": "IPY_MODEL_5529dc48fa344f9d92734d281d250cfd",
            "placeholder": "​",
            "style": "IPY_MODEL_06adbda6daf64f7fa41d4e67b631a97f",
            "value": " 29696/? [00:00&lt;00:00, 809738.99it/s]"
          }
        },
        "232e3075919d45babab6e6792f50a178": {
          "model_module": "@jupyter-widgets/controls",
          "model_module_version": "1.5.0",
          "model_name": "DescriptionStyleModel",
          "state": {
            "_model_module": "@jupyter-widgets/controls",
            "_model_module_version": "1.5.0",
            "_model_name": "DescriptionStyleModel",
            "_view_count": null,
            "_view_module": "@jupyter-widgets/base",
            "_view_module_version": "1.2.0",
            "_view_name": "StyleView",
            "description_width": ""
          }
        },
        "27cfe3f6ebea4502ac9f45b6cfe4bd97": {
          "model_module": "@jupyter-widgets/controls",
          "model_module_version": "1.5.0",
          "model_name": "ProgressStyleModel",
          "state": {
            "_model_module": "@jupyter-widgets/controls",
            "_model_module_version": "1.5.0",
            "_model_name": "ProgressStyleModel",
            "_view_count": null,
            "_view_module": "@jupyter-widgets/base",
            "_view_module_version": "1.2.0",
            "_view_name": "StyleView",
            "bar_color": null,
            "description_width": ""
          }
        },
        "308ad901540b4680b69c3190ba612139": {
          "model_module": "@jupyter-widgets/controls",
          "model_module_version": "1.5.0",
          "model_name": "HTMLModel",
          "state": {
            "_dom_classes": [],
            "_model_module": "@jupyter-widgets/controls",
            "_model_module_version": "1.5.0",
            "_model_name": "HTMLModel",
            "_view_count": null,
            "_view_module": "@jupyter-widgets/controls",
            "_view_module_version": "1.5.0",
            "_view_name": "HTMLView",
            "description": "",
            "description_tooltip": null,
            "layout": "IPY_MODEL_3213444e29da4e43a3fa5801b66ea721",
            "placeholder": "​",
            "style": "IPY_MODEL_e955b50c2151447b984bd7ba2c5a4a79",
            "value": ""
          }
        },
        "31a992e37c6e40eea4c9b8f3e3cf1fb3": {
          "model_module": "@jupyter-widgets/base",
          "model_module_version": "1.2.0",
          "model_name": "LayoutModel",
          "state": {
            "_model_module": "@jupyter-widgets/base",
            "_model_module_version": "1.2.0",
            "_model_name": "LayoutModel",
            "_view_count": null,
            "_view_module": "@jupyter-widgets/base",
            "_view_module_version": "1.2.0",
            "_view_name": "LayoutView",
            "align_content": null,
            "align_items": null,
            "align_self": null,
            "border": null,
            "bottom": null,
            "display": null,
            "flex": null,
            "flex_flow": null,
            "grid_area": null,
            "grid_auto_columns": null,
            "grid_auto_flow": null,
            "grid_auto_rows": null,
            "grid_column": null,
            "grid_gap": null,
            "grid_row": null,
            "grid_template_areas": null,
            "grid_template_columns": null,
            "grid_template_rows": null,
            "height": null,
            "justify_content": null,
            "justify_items": null,
            "left": null,
            "margin": null,
            "max_height": null,
            "max_width": null,
            "min_height": null,
            "min_width": null,
            "object_fit": null,
            "object_position": null,
            "order": null,
            "overflow": null,
            "overflow_x": null,
            "overflow_y": null,
            "padding": null,
            "right": null,
            "top": null,
            "visibility": null,
            "width": null
          }
        },
        "3213444e29da4e43a3fa5801b66ea721": {
          "model_module": "@jupyter-widgets/base",
          "model_module_version": "1.2.0",
          "model_name": "LayoutModel",
          "state": {
            "_model_module": "@jupyter-widgets/base",
            "_model_module_version": "1.2.0",
            "_model_name": "LayoutModel",
            "_view_count": null,
            "_view_module": "@jupyter-widgets/base",
            "_view_module_version": "1.2.0",
            "_view_name": "LayoutView",
            "align_content": null,
            "align_items": null,
            "align_self": null,
            "border": null,
            "bottom": null,
            "display": null,
            "flex": null,
            "flex_flow": null,
            "grid_area": null,
            "grid_auto_columns": null,
            "grid_auto_flow": null,
            "grid_auto_rows": null,
            "grid_column": null,
            "grid_gap": null,
            "grid_row": null,
            "grid_template_areas": null,
            "grid_template_columns": null,
            "grid_template_rows": null,
            "height": null,
            "justify_content": null,
            "justify_items": null,
            "left": null,
            "margin": null,
            "max_height": null,
            "max_width": null,
            "min_height": null,
            "min_width": null,
            "object_fit": null,
            "object_position": null,
            "order": null,
            "overflow": null,
            "overflow_x": null,
            "overflow_y": null,
            "padding": null,
            "right": null,
            "top": null,
            "visibility": null,
            "width": null
          }
        },
        "3213bd4ed97e464c8db911da353bdfe0": {
          "model_module": "@jupyter-widgets/base",
          "model_module_version": "1.2.0",
          "model_name": "LayoutModel",
          "state": {
            "_model_module": "@jupyter-widgets/base",
            "_model_module_version": "1.2.0",
            "_model_name": "LayoutModel",
            "_view_count": null,
            "_view_module": "@jupyter-widgets/base",
            "_view_module_version": "1.2.0",
            "_view_name": "LayoutView",
            "align_content": null,
            "align_items": null,
            "align_self": null,
            "border": null,
            "bottom": null,
            "display": null,
            "flex": null,
            "flex_flow": null,
            "grid_area": null,
            "grid_auto_columns": null,
            "grid_auto_flow": null,
            "grid_auto_rows": null,
            "grid_column": null,
            "grid_gap": null,
            "grid_row": null,
            "grid_template_areas": null,
            "grid_template_columns": null,
            "grid_template_rows": null,
            "height": null,
            "justify_content": null,
            "justify_items": null,
            "left": null,
            "margin": null,
            "max_height": null,
            "max_width": null,
            "min_height": null,
            "min_width": null,
            "object_fit": null,
            "object_position": null,
            "order": null,
            "overflow": null,
            "overflow_x": null,
            "overflow_y": null,
            "padding": null,
            "right": null,
            "top": null,
            "visibility": null,
            "width": null
          }
        },
        "340866d2fc684d37a50802da57e11a78": {
          "model_module": "@jupyter-widgets/controls",
          "model_module_version": "1.5.0",
          "model_name": "ProgressStyleModel",
          "state": {
            "_model_module": "@jupyter-widgets/controls",
            "_model_module_version": "1.5.0",
            "_model_name": "ProgressStyleModel",
            "_view_count": null,
            "_view_module": "@jupyter-widgets/base",
            "_view_module_version": "1.2.0",
            "_view_name": "StyleView",
            "bar_color": null,
            "description_width": ""
          }
        },
        "3669b762d8354d56a6e502947e072e50": {
          "model_module": "@jupyter-widgets/controls",
          "model_module_version": "1.5.0",
          "model_name": "ProgressStyleModel",
          "state": {
            "_model_module": "@jupyter-widgets/controls",
            "_model_module_version": "1.5.0",
            "_model_name": "ProgressStyleModel",
            "_view_count": null,
            "_view_module": "@jupyter-widgets/base",
            "_view_module_version": "1.2.0",
            "_view_name": "StyleView",
            "bar_color": null,
            "description_width": ""
          }
        },
        "3b98dfb924cf4ba5a5ea5c5aaf978cc8": {
          "model_module": "@jupyter-widgets/controls",
          "model_module_version": "1.5.0",
          "model_name": "HTMLModel",
          "state": {
            "_dom_classes": [],
            "_model_module": "@jupyter-widgets/controls",
            "_model_module_version": "1.5.0",
            "_model_name": "HTMLModel",
            "_view_count": null,
            "_view_module": "@jupyter-widgets/controls",
            "_view_module_version": "1.5.0",
            "_view_name": "HTMLView",
            "description": "",
            "description_tooltip": null,
            "layout": "IPY_MODEL_50737e8822e9469f9bc3465714be4c71",
            "placeholder": "​",
            "style": "IPY_MODEL_491e5bf9caa24a3c87035d80c7514350",
            "value": ""
          }
        },
        "3cfaa2c8e3ae431baad7b80e6a9bacd8": {
          "model_module": "@jupyter-widgets/controls",
          "model_module_version": "1.5.0",
          "model_name": "HBoxModel",
          "state": {
            "_dom_classes": [],
            "_model_module": "@jupyter-widgets/controls",
            "_model_module_version": "1.5.0",
            "_model_name": "HBoxModel",
            "_view_count": null,
            "_view_module": "@jupyter-widgets/controls",
            "_view_module_version": "1.5.0",
            "_view_name": "HBoxView",
            "box_style": "",
            "children": [
              "IPY_MODEL_801b49a3802a49eaa73eb502fa049e65",
              "IPY_MODEL_84fa0f48f1cb42ae9c90b1d6ba9948c9",
              "IPY_MODEL_c2b2b103a4894a338dc57dee25c30c00"
            ],
            "layout": "IPY_MODEL_a6a8d0e9d21b4ba0b4944a565a1eef30"
          }
        },
        "40b5466ae71c4ef19ed1f183160857d5": {
          "model_module": "@jupyter-widgets/controls",
          "model_module_version": "1.5.0",
          "model_name": "HBoxModel",
          "state": {
            "_dom_classes": [],
            "_model_module": "@jupyter-widgets/controls",
            "_model_module_version": "1.5.0",
            "_model_name": "HBoxModel",
            "_view_count": null,
            "_view_module": "@jupyter-widgets/controls",
            "_view_module_version": "1.5.0",
            "_view_name": "HBoxView",
            "box_style": "",
            "children": [
              "IPY_MODEL_308ad901540b4680b69c3190ba612139",
              "IPY_MODEL_dec11ed0e10d478d9819953ad5bd4d4e",
              "IPY_MODEL_2313773fd2a442219ac33593761f8fd6"
            ],
            "layout": "IPY_MODEL_31a992e37c6e40eea4c9b8f3e3cf1fb3"
          }
        },
        "491e5bf9caa24a3c87035d80c7514350": {
          "model_module": "@jupyter-widgets/controls",
          "model_module_version": "1.5.0",
          "model_name": "DescriptionStyleModel",
          "state": {
            "_model_module": "@jupyter-widgets/controls",
            "_model_module_version": "1.5.0",
            "_model_name": "DescriptionStyleModel",
            "_view_count": null,
            "_view_module": "@jupyter-widgets/base",
            "_view_module_version": "1.2.0",
            "_view_name": "StyleView",
            "description_width": ""
          }
        },
        "50737e8822e9469f9bc3465714be4c71": {
          "model_module": "@jupyter-widgets/base",
          "model_module_version": "1.2.0",
          "model_name": "LayoutModel",
          "state": {
            "_model_module": "@jupyter-widgets/base",
            "_model_module_version": "1.2.0",
            "_model_name": "LayoutModel",
            "_view_count": null,
            "_view_module": "@jupyter-widgets/base",
            "_view_module_version": "1.2.0",
            "_view_name": "LayoutView",
            "align_content": null,
            "align_items": null,
            "align_self": null,
            "border": null,
            "bottom": null,
            "display": null,
            "flex": null,
            "flex_flow": null,
            "grid_area": null,
            "grid_auto_columns": null,
            "grid_auto_flow": null,
            "grid_auto_rows": null,
            "grid_column": null,
            "grid_gap": null,
            "grid_row": null,
            "grid_template_areas": null,
            "grid_template_columns": null,
            "grid_template_rows": null,
            "height": null,
            "justify_content": null,
            "justify_items": null,
            "left": null,
            "margin": null,
            "max_height": null,
            "max_width": null,
            "min_height": null,
            "min_width": null,
            "object_fit": null,
            "object_position": null,
            "order": null,
            "overflow": null,
            "overflow_x": null,
            "overflow_y": null,
            "padding": null,
            "right": null,
            "top": null,
            "visibility": null,
            "width": null
          }
        },
        "52c1015b6d2646d580053f39cd8392d8": {
          "model_module": "@jupyter-widgets/controls",
          "model_module_version": "1.5.0",
          "model_name": "HTMLModel",
          "state": {
            "_dom_classes": [],
            "_model_module": "@jupyter-widgets/controls",
            "_model_module_version": "1.5.0",
            "_model_name": "HTMLModel",
            "_view_count": null,
            "_view_module": "@jupyter-widgets/controls",
            "_view_module_version": "1.5.0",
            "_view_name": "HTMLView",
            "description": "",
            "description_tooltip": null,
            "layout": "IPY_MODEL_d66e132a39c3471281861f9d138539ca",
            "placeholder": "​",
            "style": "IPY_MODEL_551206d0668f42f0810d775d4cb7bfc3",
            "value": " 9913344/? [00:00&lt;00:00, 15113909.37it/s]"
          }
        },
        "551206d0668f42f0810d775d4cb7bfc3": {
          "model_module": "@jupyter-widgets/controls",
          "model_module_version": "1.5.0",
          "model_name": "DescriptionStyleModel",
          "state": {
            "_model_module": "@jupyter-widgets/controls",
            "_model_module_version": "1.5.0",
            "_model_name": "DescriptionStyleModel",
            "_view_count": null,
            "_view_module": "@jupyter-widgets/base",
            "_view_module_version": "1.2.0",
            "_view_name": "StyleView",
            "description_width": ""
          }
        },
        "5529dc48fa344f9d92734d281d250cfd": {
          "model_module": "@jupyter-widgets/base",
          "model_module_version": "1.2.0",
          "model_name": "LayoutModel",
          "state": {
            "_model_module": "@jupyter-widgets/base",
            "_model_module_version": "1.2.0",
            "_model_name": "LayoutModel",
            "_view_count": null,
            "_view_module": "@jupyter-widgets/base",
            "_view_module_version": "1.2.0",
            "_view_name": "LayoutView",
            "align_content": null,
            "align_items": null,
            "align_self": null,
            "border": null,
            "bottom": null,
            "display": null,
            "flex": null,
            "flex_flow": null,
            "grid_area": null,
            "grid_auto_columns": null,
            "grid_auto_flow": null,
            "grid_auto_rows": null,
            "grid_column": null,
            "grid_gap": null,
            "grid_row": null,
            "grid_template_areas": null,
            "grid_template_columns": null,
            "grid_template_rows": null,
            "height": null,
            "justify_content": null,
            "justify_items": null,
            "left": null,
            "margin": null,
            "max_height": null,
            "max_width": null,
            "min_height": null,
            "min_width": null,
            "object_fit": null,
            "object_position": null,
            "order": null,
            "overflow": null,
            "overflow_x": null,
            "overflow_y": null,
            "padding": null,
            "right": null,
            "top": null,
            "visibility": null,
            "width": null
          }
        },
        "56c291899f9f4507a76b22ccad3b006d": {
          "model_module": "@jupyter-widgets/controls",
          "model_module_version": "1.5.0",
          "model_name": "DescriptionStyleModel",
          "state": {
            "_model_module": "@jupyter-widgets/controls",
            "_model_module_version": "1.5.0",
            "_model_name": "DescriptionStyleModel",
            "_view_count": null,
            "_view_module": "@jupyter-widgets/base",
            "_view_module_version": "1.2.0",
            "_view_name": "StyleView",
            "description_width": ""
          }
        },
        "7411e818d8bb4445b5a70d38017efe08": {
          "model_module": "@jupyter-widgets/controls",
          "model_module_version": "1.5.0",
          "model_name": "HBoxModel",
          "state": {
            "_dom_classes": [],
            "_model_module": "@jupyter-widgets/controls",
            "_model_module_version": "1.5.0",
            "_model_name": "HBoxModel",
            "_view_count": null,
            "_view_module": "@jupyter-widgets/controls",
            "_view_module_version": "1.5.0",
            "_view_name": "HBoxView",
            "box_style": "",
            "children": [
              "IPY_MODEL_3b98dfb924cf4ba5a5ea5c5aaf978cc8",
              "IPY_MODEL_a01c5de7d89e407ab06a1d7d0f3461eb",
              "IPY_MODEL_97f8874cb7ee47339966f9a6e05fe3f8"
            ],
            "layout": "IPY_MODEL_d82dde194f9348fa944b8381dda0a0f0"
          }
        },
        "7d81956d0c9946babcfd06bb87ecdc9a": {
          "model_module": "@jupyter-widgets/base",
          "model_module_version": "1.2.0",
          "model_name": "LayoutModel",
          "state": {
            "_model_module": "@jupyter-widgets/base",
            "_model_module_version": "1.2.0",
            "_model_name": "LayoutModel",
            "_view_count": null,
            "_view_module": "@jupyter-widgets/base",
            "_view_module_version": "1.2.0",
            "_view_name": "LayoutView",
            "align_content": null,
            "align_items": null,
            "align_self": null,
            "border": null,
            "bottom": null,
            "display": null,
            "flex": null,
            "flex_flow": null,
            "grid_area": null,
            "grid_auto_columns": null,
            "grid_auto_flow": null,
            "grid_auto_rows": null,
            "grid_column": null,
            "grid_gap": null,
            "grid_row": null,
            "grid_template_areas": null,
            "grid_template_columns": null,
            "grid_template_rows": null,
            "height": null,
            "justify_content": null,
            "justify_items": null,
            "left": null,
            "margin": null,
            "max_height": null,
            "max_width": null,
            "min_height": null,
            "min_width": null,
            "object_fit": null,
            "object_position": null,
            "order": null,
            "overflow": null,
            "overflow_x": null,
            "overflow_y": null,
            "padding": null,
            "right": null,
            "top": null,
            "visibility": null,
            "width": null
          }
        },
        "7e581a8847804eedaeafff9a4cad4772": {
          "model_module": "@jupyter-widgets/controls",
          "model_module_version": "1.5.0",
          "model_name": "ProgressStyleModel",
          "state": {
            "_model_module": "@jupyter-widgets/controls",
            "_model_module_version": "1.5.0",
            "_model_name": "ProgressStyleModel",
            "_view_count": null,
            "_view_module": "@jupyter-widgets/base",
            "_view_module_version": "1.2.0",
            "_view_name": "StyleView",
            "bar_color": null,
            "description_width": ""
          }
        },
        "801b49a3802a49eaa73eb502fa049e65": {
          "model_module": "@jupyter-widgets/controls",
          "model_module_version": "1.5.0",
          "model_name": "HTMLModel",
          "state": {
            "_dom_classes": [],
            "_model_module": "@jupyter-widgets/controls",
            "_model_module_version": "1.5.0",
            "_model_name": "HTMLModel",
            "_view_count": null,
            "_view_module": "@jupyter-widgets/controls",
            "_view_module_version": "1.5.0",
            "_view_name": "HTMLView",
            "description": "",
            "description_tooltip": null,
            "layout": "IPY_MODEL_ab4a3f885f704e2b9601b2a17972e7a2",
            "placeholder": "​",
            "style": "IPY_MODEL_01a455a30e414211967d87edc4d755d1",
            "value": ""
          }
        },
        "84fa0f48f1cb42ae9c90b1d6ba9948c9": {
          "model_module": "@jupyter-widgets/controls",
          "model_module_version": "1.5.0",
          "model_name": "FloatProgressModel",
          "state": {
            "_dom_classes": [],
            "_model_module": "@jupyter-widgets/controls",
            "_model_module_version": "1.5.0",
            "_model_name": "FloatProgressModel",
            "_view_count": null,
            "_view_module": "@jupyter-widgets/controls",
            "_view_module_version": "1.5.0",
            "_view_name": "ProgressView",
            "bar_style": "success",
            "description": "",
            "description_tooltip": null,
            "layout": "IPY_MODEL_edddb684f6334102a4336983ffd7ceb7",
            "max": 4542,
            "min": 0,
            "orientation": "horizontal",
            "style": "IPY_MODEL_27cfe3f6ebea4502ac9f45b6cfe4bd97",
            "value": 4542
          }
        },
        "8f899eec1a0644aa873c32adb90d90b1": {
          "model_module": "@jupyter-widgets/controls",
          "model_module_version": "1.5.0",
          "model_name": "HTMLModel",
          "state": {
            "_dom_classes": [],
            "_model_module": "@jupyter-widgets/controls",
            "_model_module_version": "1.5.0",
            "_model_name": "HTMLModel",
            "_view_count": null,
            "_view_module": "@jupyter-widgets/controls",
            "_view_module_version": "1.5.0",
            "_view_name": "HTMLView",
            "description": "",
            "description_tooltip": null,
            "layout": "IPY_MODEL_1f07ee35196248d693da77be4943376e",
            "placeholder": "​",
            "style": "IPY_MODEL_b7aecaedfdf54a5ca1d3919afcde0acd",
            "value": ""
          }
        },
        "97f8874cb7ee47339966f9a6e05fe3f8": {
          "model_module": "@jupyter-widgets/controls",
          "model_module_version": "1.5.0",
          "model_name": "HTMLModel",
          "state": {
            "_dom_classes": [],
            "_model_module": "@jupyter-widgets/controls",
            "_model_module_version": "1.5.0",
            "_model_name": "HTMLModel",
            "_view_count": null,
            "_view_module": "@jupyter-widgets/controls",
            "_view_module_version": "1.5.0",
            "_view_name": "HTMLView",
            "description": "",
            "description_tooltip": null,
            "layout": "IPY_MODEL_08e49769a3fc4b19b485a5aa02aa4545",
            "placeholder": "​",
            "style": "IPY_MODEL_232e3075919d45babab6e6792f50a178",
            "value": " 1649664/? [00:00&lt;00:00, 2405475.86it/s]"
          }
        },
        "a01c5de7d89e407ab06a1d7d0f3461eb": {
          "model_module": "@jupyter-widgets/controls",
          "model_module_version": "1.5.0",
          "model_name": "FloatProgressModel",
          "state": {
            "_dom_classes": [],
            "_model_module": "@jupyter-widgets/controls",
            "_model_module_version": "1.5.0",
            "_model_name": "FloatProgressModel",
            "_view_count": null,
            "_view_module": "@jupyter-widgets/controls",
            "_view_module_version": "1.5.0",
            "_view_name": "ProgressView",
            "bar_style": "success",
            "description": "",
            "description_tooltip": null,
            "layout": "IPY_MODEL_b6ecceb3d0d34819b03d5e8f0163e905",
            "max": 1648877,
            "min": 0,
            "orientation": "horizontal",
            "style": "IPY_MODEL_340866d2fc684d37a50802da57e11a78",
            "value": 1648877
          }
        },
        "a6a8d0e9d21b4ba0b4944a565a1eef30": {
          "model_module": "@jupyter-widgets/base",
          "model_module_version": "1.2.0",
          "model_name": "LayoutModel",
          "state": {
            "_model_module": "@jupyter-widgets/base",
            "_model_module_version": "1.2.0",
            "_model_name": "LayoutModel",
            "_view_count": null,
            "_view_module": "@jupyter-widgets/base",
            "_view_module_version": "1.2.0",
            "_view_name": "LayoutView",
            "align_content": null,
            "align_items": null,
            "align_self": null,
            "border": null,
            "bottom": null,
            "display": null,
            "flex": null,
            "flex_flow": null,
            "grid_area": null,
            "grid_auto_columns": null,
            "grid_auto_flow": null,
            "grid_auto_rows": null,
            "grid_column": null,
            "grid_gap": null,
            "grid_row": null,
            "grid_template_areas": null,
            "grid_template_columns": null,
            "grid_template_rows": null,
            "height": null,
            "justify_content": null,
            "justify_items": null,
            "left": null,
            "margin": null,
            "max_height": null,
            "max_width": null,
            "min_height": null,
            "min_width": null,
            "object_fit": null,
            "object_position": null,
            "order": null,
            "overflow": null,
            "overflow_x": null,
            "overflow_y": null,
            "padding": null,
            "right": null,
            "top": null,
            "visibility": null,
            "width": null
          }
        },
        "ab4a3f885f704e2b9601b2a17972e7a2": {
          "model_module": "@jupyter-widgets/base",
          "model_module_version": "1.2.0",
          "model_name": "LayoutModel",
          "state": {
            "_model_module": "@jupyter-widgets/base",
            "_model_module_version": "1.2.0",
            "_model_name": "LayoutModel",
            "_view_count": null,
            "_view_module": "@jupyter-widgets/base",
            "_view_module_version": "1.2.0",
            "_view_name": "LayoutView",
            "align_content": null,
            "align_items": null,
            "align_self": null,
            "border": null,
            "bottom": null,
            "display": null,
            "flex": null,
            "flex_flow": null,
            "grid_area": null,
            "grid_auto_columns": null,
            "grid_auto_flow": null,
            "grid_auto_rows": null,
            "grid_column": null,
            "grid_gap": null,
            "grid_row": null,
            "grid_template_areas": null,
            "grid_template_columns": null,
            "grid_template_rows": null,
            "height": null,
            "justify_content": null,
            "justify_items": null,
            "left": null,
            "margin": null,
            "max_height": null,
            "max_width": null,
            "min_height": null,
            "min_width": null,
            "object_fit": null,
            "object_position": null,
            "order": null,
            "overflow": null,
            "overflow_x": null,
            "overflow_y": null,
            "padding": null,
            "right": null,
            "top": null,
            "visibility": null,
            "width": null
          }
        },
        "b6ecceb3d0d34819b03d5e8f0163e905": {
          "model_module": "@jupyter-widgets/base",
          "model_module_version": "1.2.0",
          "model_name": "LayoutModel",
          "state": {
            "_model_module": "@jupyter-widgets/base",
            "_model_module_version": "1.2.0",
            "_model_name": "LayoutModel",
            "_view_count": null,
            "_view_module": "@jupyter-widgets/base",
            "_view_module_version": "1.2.0",
            "_view_name": "LayoutView",
            "align_content": null,
            "align_items": null,
            "align_self": null,
            "border": null,
            "bottom": null,
            "display": null,
            "flex": null,
            "flex_flow": null,
            "grid_area": null,
            "grid_auto_columns": null,
            "grid_auto_flow": null,
            "grid_auto_rows": null,
            "grid_column": null,
            "grid_gap": null,
            "grid_row": null,
            "grid_template_areas": null,
            "grid_template_columns": null,
            "grid_template_rows": null,
            "height": null,
            "justify_content": null,
            "justify_items": null,
            "left": null,
            "margin": null,
            "max_height": null,
            "max_width": null,
            "min_height": null,
            "min_width": null,
            "object_fit": null,
            "object_position": null,
            "order": null,
            "overflow": null,
            "overflow_x": null,
            "overflow_y": null,
            "padding": null,
            "right": null,
            "top": null,
            "visibility": null,
            "width": null
          }
        },
        "b7aecaedfdf54a5ca1d3919afcde0acd": {
          "model_module": "@jupyter-widgets/controls",
          "model_module_version": "1.5.0",
          "model_name": "DescriptionStyleModel",
          "state": {
            "_model_module": "@jupyter-widgets/controls",
            "_model_module_version": "1.5.0",
            "_model_name": "DescriptionStyleModel",
            "_view_count": null,
            "_view_module": "@jupyter-widgets/base",
            "_view_module_version": "1.2.0",
            "_view_name": "StyleView",
            "description_width": ""
          }
        },
        "be42ec7502aa490ebad67ff4d2a1040b": {
          "model_module": "@jupyter-widgets/base",
          "model_module_version": "1.2.0",
          "model_name": "LayoutModel",
          "state": {
            "_model_module": "@jupyter-widgets/base",
            "_model_module_version": "1.2.0",
            "_model_name": "LayoutModel",
            "_view_count": null,
            "_view_module": "@jupyter-widgets/base",
            "_view_module_version": "1.2.0",
            "_view_name": "LayoutView",
            "align_content": null,
            "align_items": null,
            "align_self": null,
            "border": null,
            "bottom": null,
            "display": null,
            "flex": null,
            "flex_flow": null,
            "grid_area": null,
            "grid_auto_columns": null,
            "grid_auto_flow": null,
            "grid_auto_rows": null,
            "grid_column": null,
            "grid_gap": null,
            "grid_row": null,
            "grid_template_areas": null,
            "grid_template_columns": null,
            "grid_template_rows": null,
            "height": null,
            "justify_content": null,
            "justify_items": null,
            "left": null,
            "margin": null,
            "max_height": null,
            "max_width": null,
            "min_height": null,
            "min_width": null,
            "object_fit": null,
            "object_position": null,
            "order": null,
            "overflow": null,
            "overflow_x": null,
            "overflow_y": null,
            "padding": null,
            "right": null,
            "top": null,
            "visibility": null,
            "width": null
          }
        },
        "c29978f721ff497b96aa9d9b03d677c8": {
          "model_module": "@jupyter-widgets/controls",
          "model_module_version": "1.5.0",
          "model_name": "FloatProgressModel",
          "state": {
            "_dom_classes": [],
            "_model_module": "@jupyter-widgets/controls",
            "_model_module_version": "1.5.0",
            "_model_name": "FloatProgressModel",
            "_view_count": null,
            "_view_module": "@jupyter-widgets/controls",
            "_view_module_version": "1.5.0",
            "_view_name": "ProgressView",
            "bar_style": "success",
            "description": "",
            "description_tooltip": null,
            "layout": "IPY_MODEL_3213bd4ed97e464c8db911da353bdfe0",
            "max": 9912422,
            "min": 0,
            "orientation": "horizontal",
            "style": "IPY_MODEL_3669b762d8354d56a6e502947e072e50",
            "value": 9912422
          }
        },
        "c2b2b103a4894a338dc57dee25c30c00": {
          "model_module": "@jupyter-widgets/controls",
          "model_module_version": "1.5.0",
          "model_name": "HTMLModel",
          "state": {
            "_dom_classes": [],
            "_model_module": "@jupyter-widgets/controls",
            "_model_module_version": "1.5.0",
            "_model_name": "HTMLModel",
            "_view_count": null,
            "_view_module": "@jupyter-widgets/controls",
            "_view_module_version": "1.5.0",
            "_view_name": "HTMLView",
            "description": "",
            "description_tooltip": null,
            "layout": "IPY_MODEL_be42ec7502aa490ebad67ff4d2a1040b",
            "placeholder": "​",
            "style": "IPY_MODEL_56c291899f9f4507a76b22ccad3b006d",
            "value": " 5120/? [00:00&lt;00:00, 100582.83it/s]"
          }
        },
        "d66e132a39c3471281861f9d138539ca": {
          "model_module": "@jupyter-widgets/base",
          "model_module_version": "1.2.0",
          "model_name": "LayoutModel",
          "state": {
            "_model_module": "@jupyter-widgets/base",
            "_model_module_version": "1.2.0",
            "_model_name": "LayoutModel",
            "_view_count": null,
            "_view_module": "@jupyter-widgets/base",
            "_view_module_version": "1.2.0",
            "_view_name": "LayoutView",
            "align_content": null,
            "align_items": null,
            "align_self": null,
            "border": null,
            "bottom": null,
            "display": null,
            "flex": null,
            "flex_flow": null,
            "grid_area": null,
            "grid_auto_columns": null,
            "grid_auto_flow": null,
            "grid_auto_rows": null,
            "grid_column": null,
            "grid_gap": null,
            "grid_row": null,
            "grid_template_areas": null,
            "grid_template_columns": null,
            "grid_template_rows": null,
            "height": null,
            "justify_content": null,
            "justify_items": null,
            "left": null,
            "margin": null,
            "max_height": null,
            "max_width": null,
            "min_height": null,
            "min_width": null,
            "object_fit": null,
            "object_position": null,
            "order": null,
            "overflow": null,
            "overflow_x": null,
            "overflow_y": null,
            "padding": null,
            "right": null,
            "top": null,
            "visibility": null,
            "width": null
          }
        },
        "d82dde194f9348fa944b8381dda0a0f0": {
          "model_module": "@jupyter-widgets/base",
          "model_module_version": "1.2.0",
          "model_name": "LayoutModel",
          "state": {
            "_model_module": "@jupyter-widgets/base",
            "_model_module_version": "1.2.0",
            "_model_name": "LayoutModel",
            "_view_count": null,
            "_view_module": "@jupyter-widgets/base",
            "_view_module_version": "1.2.0",
            "_view_name": "LayoutView",
            "align_content": null,
            "align_items": null,
            "align_self": null,
            "border": null,
            "bottom": null,
            "display": null,
            "flex": null,
            "flex_flow": null,
            "grid_area": null,
            "grid_auto_columns": null,
            "grid_auto_flow": null,
            "grid_auto_rows": null,
            "grid_column": null,
            "grid_gap": null,
            "grid_row": null,
            "grid_template_areas": null,
            "grid_template_columns": null,
            "grid_template_rows": null,
            "height": null,
            "justify_content": null,
            "justify_items": null,
            "left": null,
            "margin": null,
            "max_height": null,
            "max_width": null,
            "min_height": null,
            "min_width": null,
            "object_fit": null,
            "object_position": null,
            "order": null,
            "overflow": null,
            "overflow_x": null,
            "overflow_y": null,
            "padding": null,
            "right": null,
            "top": null,
            "visibility": null,
            "width": null
          }
        },
        "dec11ed0e10d478d9819953ad5bd4d4e": {
          "model_module": "@jupyter-widgets/controls",
          "model_module_version": "1.5.0",
          "model_name": "FloatProgressModel",
          "state": {
            "_dom_classes": [],
            "_model_module": "@jupyter-widgets/controls",
            "_model_module_version": "1.5.0",
            "_model_name": "FloatProgressModel",
            "_view_count": null,
            "_view_module": "@jupyter-widgets/controls",
            "_view_module_version": "1.5.0",
            "_view_name": "ProgressView",
            "bar_style": "success",
            "description": "",
            "description_tooltip": null,
            "layout": "IPY_MODEL_13ac8d35dc82413096a6fbff04c80d6b",
            "max": 28881,
            "min": 0,
            "orientation": "horizontal",
            "style": "IPY_MODEL_7e581a8847804eedaeafff9a4cad4772",
            "value": 28881
          }
        },
        "e955b50c2151447b984bd7ba2c5a4a79": {
          "model_module": "@jupyter-widgets/controls",
          "model_module_version": "1.5.0",
          "model_name": "DescriptionStyleModel",
          "state": {
            "_model_module": "@jupyter-widgets/controls",
            "_model_module_version": "1.5.0",
            "_model_name": "DescriptionStyleModel",
            "_view_count": null,
            "_view_module": "@jupyter-widgets/base",
            "_view_module_version": "1.2.0",
            "_view_name": "StyleView",
            "description_width": ""
          }
        },
        "edddb684f6334102a4336983ffd7ceb7": {
          "model_module": "@jupyter-widgets/base",
          "model_module_version": "1.2.0",
          "model_name": "LayoutModel",
          "state": {
            "_model_module": "@jupyter-widgets/base",
            "_model_module_version": "1.2.0",
            "_model_name": "LayoutModel",
            "_view_count": null,
            "_view_module": "@jupyter-widgets/base",
            "_view_module_version": "1.2.0",
            "_view_name": "LayoutView",
            "align_content": null,
            "align_items": null,
            "align_self": null,
            "border": null,
            "bottom": null,
            "display": null,
            "flex": null,
            "flex_flow": null,
            "grid_area": null,
            "grid_auto_columns": null,
            "grid_auto_flow": null,
            "grid_auto_rows": null,
            "grid_column": null,
            "grid_gap": null,
            "grid_row": null,
            "grid_template_areas": null,
            "grid_template_columns": null,
            "grid_template_rows": null,
            "height": null,
            "justify_content": null,
            "justify_items": null,
            "left": null,
            "margin": null,
            "max_height": null,
            "max_width": null,
            "min_height": null,
            "min_width": null,
            "object_fit": null,
            "object_position": null,
            "order": null,
            "overflow": null,
            "overflow_x": null,
            "overflow_y": null,
            "padding": null,
            "right": null,
            "top": null,
            "visibility": null,
            "width": null
          }
        }
      }
    }
  },
  "nbformat": 4,
  "nbformat_minor": 0
}
