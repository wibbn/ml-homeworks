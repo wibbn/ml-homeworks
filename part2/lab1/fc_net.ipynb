{
 "cells": [
  {
   "cell_type": "code",
   "execution_count": 1,
   "metadata": {
    "colab": {
     "base_uri": "https://localhost:8080/",
     "height": 558
    },
    "id": "_A4ZKrEbDA1p",
    "outputId": "660d036e-c473-4b28-d53f-cd7a4d8fcde9"
   },
   "outputs": [],
   "source": [
    "# Импортируем основные модули pytorch\n",
    "import torch\n",
    "import torch.nn as nn\n",
    "from torch.utils.data import DataLoader\n",
    "# Импортируем модули, связанные с компьютерным зрением\n",
    "from torchvision import datasets\n",
    "from torchvision.transforms import ToTensor\n",
    "# Импортируем вспомогательные модули\n",
    "from sklearn.metrics import accuracy_score\n",
    "import matplotlib.pyplot as plt"
   ]
  },
  {
   "cell_type": "code",
   "execution_count": 49,
   "metadata": {},
   "outputs": [],
   "source": [
    "# В первой части работы вам предстоит создать и обучить модель на основе полносвязной нейронной сети, аналогичной той,\n",
    "# что вы уже обучали в первом семестре вручную: сети с одним скрытым слоем и логистической функцией активации.\n",
    "# В качестве обучающего набора будем использовать уже известный нам набор MNIST.\n",
    "\n",
    "# Класс полносвязной нейронной сети.\n",
    "# Необходимо реализовать полносвязную нейронную сеть с одним скрытым слоем\n",
    "# с логистической функцией активации на скрытом слое и SoftMax на выходном слое.\n",
    "# Схема сети: Линейный слой -> Логическая функция -> Линейный слой -> SoftMax\n",
    "# Сеть должна классифицировать черно-белые картинки с цифрами (0-9) размера 28х28 пискселей из набора данных MNIST.\n",
    "# Подумайте, какую функцию потерь будете использовать при обучении: от этого будет зависеть функция на последнем слое.\n",
    "# Разберитесь в функциях потерь CrossEntropyLoss, NLLLoss, а также в функцих активации LogSoftmax и Softmax по документации.\n",
    "# После успешной реализации требуемой сети, попробуйте поиграть с количеством нейронов, слоев, типами функций активации.\n",
    "# Какой максимальной точности на тестовой выборке удалось достичь?\n",
    "class FullyConnectedNet(nn.Module):\n",
    "\n",
    "    def __init__(self):\n",
    "        super().__init__()\n",
    "        # ВАШ КОД ЗДЕСЬ\n",
    "        self.fc1 = nn.Linear(28*28,256)\n",
    "        self.fc2 = nn.Linear(256, 10)\n",
    "        self.act1 = nn.Sigmoid()\n",
    "        self.out = nn.LogSoftmax()\n",
    "\n",
    "        # ===============\n",
    "\n",
    "    # Метод для выполнения прямого распространения сигнала, необходимо заполнить\n",
    "    def forward(self, x):\n",
    "        # ВАШ КОД ЗДЕСЬ\n",
    "        x=self.act1(self.fc1(x))\n",
    "        x=self.out(self.fc2(x))\n",
    "        # x = self.fc2(x)\n",
    "        return x\n",
    "        # ==============="
   ]
  },
  {
   "cell_type": "code",
   "execution_count": 50,
   "metadata": {},
   "outputs": [],
   "source": [
    "# Задаем количество эпох (проходов по всей обучающей выборке) и размер пакета, можно варьировать\n",
    "EPOCHS = 10\n",
    "BATCH_SIZE = 256\n",
    "\n",
    "# Загружаем данные из набора MNIST\n",
    "train_data = datasets.MNIST(root='./data/train', train=True, download=True, transform=ToTensor())\n",
    "test_data = datasets.MNIST(root='./data/test', train=False, download=True, transform=ToTensor())\n",
    "\n",
    "# DataLoader позволяет разбить выборку на пакеты заданного размера.\n",
    "# Параметр shuffle отвечает за перемешивание данных в пакете\n",
    "train_loader = DataLoader(train_data, batch_size=BATCH_SIZE, shuffle=True)\n",
    "\n",
    "# Если графический ускоритель поддерживает обучение на нем, будем использовать его,\n",
    "# иначе обучать на процессоре.\n",
    "device = 'cuda' if torch.cuda.is_available() else 'cpu'\n",
    "\n",
    "# Готовимся к обучению\n",
    "model = FullyConnectedNet().to(device)  # создаем модель\n",
    "optimizer = torch.optim.AdamW(model.parameters(),lr=3e-4)  # оптимизатор, нужно выбрать и настроить\n",
    "loss_function = nn.NLLLoss()# нкция потерь, нужно выбрать\n",
    "loss_history = list()  # список для хранения истории изменения функции стоимости"
   ]
  },
  {
   "cell_type": "code",
   "execution_count": 51,
   "metadata": {},
   "outputs": [
    {
     "name": "stdout",
     "output_type": "stream",
     "text": [
      "Эпоха 1 завершилась с функцией стоимости на последнем пакете = 0.9267888069152832\n",
      "Эпоха 2 завершилась с функцией стоимости на последнем пакете = 0.3133796453475952\n",
      "Эпоха 3 завершилась с функцией стоимости на последнем пакете = 0.18855172395706177\n",
      "Эпоха 4 завершилась с функцией стоимости на последнем пакете = 0.3413228690624237\n",
      "Эпоха 5 завершилась с функцией стоимости на последнем пакете = 0.18113960325717926\n",
      "Эпоха 6 завершилась с функцией стоимости на последнем пакете = 0.2713474929332733\n",
      "Эпоха 7 завершилась с функцией стоимости на последнем пакете = 0.27305516600608826\n",
      "Эпоха 8 завершилась с функцией стоимости на последнем пакете = 0.2536620795726776\n",
      "Эпоха 9 завершилась с функцией стоимости на последнем пакете = 0.1249658539891243\n",
      "Эпоха 10 завершилась с функцией стоимости на последнем пакете = 0.13028277456760406\n"
     ]
    }
   ],
   "source": [
    "# Начинаем обучение\n",
    "for epoch in range(EPOCHS):\n",
    "    for i, (batch, labels) in enumerate(train_loader):  # разбиваем выборку на пакеты\n",
    "        # Нужно реализовать один шаг градиентного спуска\n",
    "        loss = torch.tensor(0, dtype=torch.float32)  # значение функции стоимости на пакете, нужно рассчитать\n",
    "        # ВАШ КОД ЗДЕСЬ\n",
    "        batch = batch.reshape(batch.shape[0], -1).to(device)\n",
    "        # print(batch)\n",
    "        # optimizer.zero_grad()\n",
    "        loss = loss_function(model(batch),labels.to(device))\n",
    "        loss.backward()\n",
    "        optimizer.step()\n",
    "        # ===============\n",
    "        loss_history.append(loss.log().item())  # добавляется логарифм стоимости для большей наглядности\n",
    "    print(f'Эпоха {epoch + 1} завершилась с функцией стоимости на последнем пакете = {loss.item()}')"
   ]
  },
  {
   "cell_type": "code",
   "execution_count": 52,
   "metadata": {},
   "outputs": [
    {
     "data": {
      "image/png": "[encoded data removed]",
      "text/plain": [
       "<Figure size 432x288 with 1 Axes>"
      ]
     },
     "metadata": {},
     "output_type": "display_data"
    }
   ],
   "source": [
    "# Выводим график функции стоимости\n",
    "plt.title('Зависимость функции стоимости от номера шага градиентного спуска')\n",
    "plt.xlabel('Номер шага')\n",
    "plt.ylabel('Функция стоимости')\n",
    "plt.plot(loss_history)\n",
    "plt.show()"
   ]
  },
  {
   "cell_type": "code",
   "execution_count": 53,
   "metadata": {},
   "outputs": [
    {
     "name": "stdout",
     "output_type": "stream",
     "text": [
      "Точность (accuracy) на обучающей выборке: 0.9534666666666667\n",
      "Точность (accuracy) на тестовой выборке: 0.9459\n"
     ]
    }
   ],
   "source": [
    "# Отключаем расчет вычислительного графа для экономии времени и памяти: нам не нужно считать градиенты при тестировании модели\n",
    "with torch.no_grad():\n",
    "    # Оцениваем качество модели\n",
    "    train_data_loader = DataLoader(train_data, batch_size=len(train_data))\n",
    "    train_features, train_targets = next(iter(train_data_loader))\n",
    "\n",
    "    train_features = train_features.reshape(len(train_data), -1).to(device)\n",
    "    train_model_predictions = torch.argmax(model(train_features), dim=1)\n",
    "    print('Точность (accuracy) на обучающей выборке:', accuracy_score(train_data.targets, train_model_predictions.cpu()))\n",
    "\n",
    "    test_data_loader = DataLoader(test_data, batch_size=len(test_data))\n",
    "    test_features, test_targets = next(iter(test_data_loader))\n",
    "\n",
    "    test_features = test_features.reshape(len(test_data), -1).to(device)\n",
    "    test_model_predictions = torch.argmax(model(test_features), dim=1)\n",
    "    print('Точность (accuracy) на тестовой выборке:', accuracy_score(test_data.targets, test_model_predictions.cpu()))"
   ]
  },
  {
   "cell_type": "code",
   "execution_count": 8,
   "metadata": {},
   "outputs": [],
   "source": [
    "# Импортируем основные модули pytorch\n",
    "import torch\n",
    "import torch.nn as nn\n",
    "from torch.utils.data import DataLoader\n",
    "\n",
    "# Импортируем модули, связанные с компьютерным зрением\n",
    "from torchvision import datasets\n",
    "from torchvision.transforms import ToTensor\n",
    "\n",
    "# Импортируем вспомогательные модули\n",
    "from sklearn.metrics import accuracy_score\n",
    "import matplotlib.pyplot as plt"
   ]
  },
  {
   "cell_type": "code",
   "execution_count": 14,
   "metadata": {},
   "outputs": [],
   "source": [
    "# Во второй части вам необходимо воспроизвести в PyTorch сверточную сеть LeNet и также обучить ее на наборе MNIST.\n",
    "\n",
    "# Класс сети LeNet.\n",
    "# Нужно реализовать сеть с архитектурой, описанной на изображении lenet.png.\n",
    "class LeNet(nn.Module):\n",
    "\n",
    "    def __init__(self):\n",
    "        super().__init__()\n",
    "\n",
    "        # ВАШ КОД ЗДЕСЬ\n",
    "        self.con1 = nn.Conv2d(1, 6, kernel_size=5, stride=1, padding=2)\n",
    "        self.act = nn.Tanh()\n",
    "        self.pool = nn.AvgPool2d(kernel_size=2, stride=2, padding=0)\n",
    "        self.con2 = nn.Conv2d(6, 16, kernel_size=5, stride=1, padding=0)\n",
    "        self.con3 = nn.Conv2d(16, 120, kernel_size=5, stride=1, padding=0)\n",
    "\n",
    "        self.fc1 = nn.Linear(120, 84)\n",
    "        self.fc2 = nn.Linear(84, 10)\n",
    "        self.out = nn.Softmax()\n",
    "        \n",
    "        # ===============\n",
    "\n",
    "    def forward(self, x):\n",
    "        # ВАШ КОД ЗДЕСЬ\n",
    "        x = self.pool(self.act(self.con1(x)))\n",
    "        x = self.pool(self.act(self.con2(x)))\n",
    "        x = self.act(self.con3(x))\n",
    "\n",
    "        x = x.view(x.size(0), -1)\n",
    "\n",
    "        x = self.fc2(self.act(self.fc1(x)))\n",
    "        x = self.out(x)\n",
    "        return x\n",
    "        # ==============="
   ]
  },
  {
   "cell_type": "code",
   "execution_count": 15,
   "metadata": {},
   "outputs": [],
   "source": [
    "# Задаем количество эпох (проходов по всей обучающей выборке) и размер пакета, можно варьировать\n",
    "EPOCHS = 10\n",
    "BATCH_SIZE = 256\n",
    "\n",
    "# Загружаем данные из набора MNIST\n",
    "train_data = datasets.MNIST(root='./data/train', train=True, download=True, transform=ToTensor())\n",
    "test_data = datasets.MNIST(root='./data/test', train=False, download=True, transform=ToTensor())\n",
    "\n",
    "# DataLoader позволяет разбить выборку на пакеты заданного размера.\n",
    "# Параметр shuffle отвечает за перемешивание данных в пакете\n",
    "train_loader = DataLoader(train_data, batch_size=BATCH_SIZE, shuffle=True)\n",
    "\n",
    "# Если графический ускоритель поддерживает обучение на нем, будем использовать его,\n",
    "# иначе обучать на процессоре.\n",
    "device = 'cuda' if torch.cuda.is_available() else 'cpu'\n",
    "\n",
    "# Готовимся к обучению\n",
    "model = LeNet().to(device)  # создаем модель\n",
    "optimizer = torch.optim.AdamW(model.parameters(), lr = 3e-4)  # оптимизатор, нужно выбрать и настроить\n",
    "loss_function = nn.CrossEntropyLoss()  # функция потерь, нужно выбрать\n",
    "loss_history = list()  # список для хранения истории изменения функции стоимости"
   ]
  },
  {
   "cell_type": "code",
   "execution_count": 16,
   "metadata": {},
   "outputs": [
    {
     "name": "stdout",
     "output_type": "stream",
     "text": [
      "Эпоха 1 завершилась с функцией стоимости на последнем пакете = 1.6407151222229004\n",
      "Эпоха 2 завершилась с функцией стоимости на последнем пакете = 1.5736709833145142\n",
      "Эпоха 3 завершилась с функцией стоимости на последнем пакете = 1.5086983442306519\n",
      "Эпоха 4 завершилась с функцией стоимости на последнем пакете = 1.5237752199172974\n",
      "Эпоха 5 завершилась с функцией стоимости на последнем пакете = 1.513898491859436\n",
      "Эпоха 6 завершилась с функцией стоимости на последнем пакете = 1.507928490638733\n",
      "Эпоха 7 завершилась с функцией стоимости на последнем пакете = 1.4942435026168823\n",
      "Эпоха 8 завершилась с функцией стоимости на последнем пакете = 1.482675552368164\n",
      "Эпоха 9 завершилась с функцией стоимости на последнем пакете = 1.476833462715149\n",
      "Эпоха 10 завершилась с функцией стоимости на последнем пакете = 1.4792059659957886\n"
     ]
    }
   ],
   "source": [
    "# Начинаем обучение\n",
    "for epoch in range(EPOCHS):\n",
    "    for i, (batch, labels) in enumerate(train_loader):  # разбиваем выборку на пакеты\n",
    "        # Нужно реализовать один шаг градиентного спуска\n",
    "        loss = torch.tensor(0, dtype=torch.float32)  # значение функции стоимости на пакете, нужно рассчитать\n",
    "        # ВАШ КОД ЗДЕСЬ\n",
    "        # batch = batch.reshape(batch.shape[0], -1).to(device)\n",
    "        optimizer.zero_grad()\n",
    "        loss = loss_function(model(batch), labels.to(device))\n",
    "        loss.backward()\n",
    "        optimizer.step()\n",
    "        # ===============\n",
    "        loss_history.append(loss.log().item())  # добавляется логарифм стоимости для большей наглядности\n",
    "    print(f'Эпоха {epoch + 1} завершилась с функцией стоимости на последнем пакете = {loss.item()}')"
   ]
  },
  {
   "cell_type": "code",
   "execution_count": 17,
   "metadata": {},
   "outputs": [
    {
     "data": {
      "image/png": "[encoded data removed]",
      "text/plain": [
       "<Figure size 432x288 with 1 Axes>"
      ]
     },
     "metadata": {},
     "output_type": "display_data"
    }
   ],
   "source": [
    "# Выводим график функции стоимости\n",
    "plt.title('Зависимость функции стоимости от номера шага градиентного спуска')\n",
    "plt.xlabel('Номер шага')\n",
    "plt.ylabel('Функция стоимости')\n",
    "plt.plot(loss_history)\n",
    "plt.show()"
   ]
  },
  {
   "cell_type": "code",
   "execution_count": 18,
   "metadata": {},
   "outputs": [
    {
     "name": "stdout",
     "output_type": "stream",
     "text": [
      "Точность (accuracy) на обучающей выборке: 0.9765833333333334\n",
      "Точность (accuracy) на тестовой выборке: 0.9739\n"
     ]
    }
   ],
   "source": [
    "# Отключаем расчет вычислительного графа для экономии времени и памяти: нам не нужно считать градиенты при тестировании модели\n",
    "with torch.no_grad():\n",
    "    # Оцениваем качество модели\n",
    "    train_data_loader = DataLoader(train_data, batch_size=len(train_data))\n",
    "    train_features, train_targets = next(iter(train_data_loader))\n",
    "\n",
    "    train_features = train_features.to(device)\n",
    "    train_model_predictions = torch.argmax(model(train_features), dim=1)\n",
    "    print('Точность (accuracy) на обучающей выборке:', accuracy_score(train_data.targets, train_model_predictions.cpu()))\n",
    "\n",
    "    test_data_loader = DataLoader(test_data, batch_size=len(test_data))\n",
    "    test_features, test_targets = next(iter(test_data_loader))\n",
    "\n",
    "    test_features = test_features.to(device)\n",
    "    test_model_predictions = torch.argmax(model(test_features), dim=1)\n",
    "    print('Точность (accuracy) на тестовой выборке:', accuracy_score(test_data.targets, test_model_predictions.cpu()))"
   ]
  },
  {
   "cell_type": "code",
   "execution_count": null,
   "metadata": {},
   "outputs": [],
   "source": []
  }
 ],
 "metadata": {
  "colab": {
   "collapsed_sections": [],
   "name": "fully_connected.ipynb",
   "provenance": []
  },
  "kernelspec": {
   "display_name": "Python 3 (ipykernel)",
   "language": "python",
   "name": "python3"
  },
  "language_info": {
   "codemirror_mode": {
    "name": "ipython",
    "version": 3
   },
   "file_extension": ".py",
   "mimetype": "text/x-python",
   "name": "python",
   "nbconvert_exporter": "python",
   "pygments_lexer": "ipython3",
   "version": "3.9.9"
  }
 },
 "nbformat": 4,
 "nbformat_minor": 4
}
