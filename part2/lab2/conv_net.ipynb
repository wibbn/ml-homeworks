{
 "cells": [
  {
   "cell_type": "code",
   "execution_count": 8,
   "metadata": {},
   "outputs": [],
   "source": [
    "from tqdm import tqdm\n",
    "\n",
    "# Импортируем основные модули pytorch\n",
    "import torch\n",
    "import torch.nn as nn\n",
    "import torch.nn.functional as F\n",
    "from torch.utils.data import DataLoader\n",
    "\n",
    "# Импортируем модули, связанные с компьютерным зрением\n",
    "from torchvision import datasets\n",
    "from torchvision.transforms import ToTensor\n",
    "\n",
    "# Импортируем вспомогательные модули\n",
    "from sklearn.metrics import accuracy_score\n",
    "import matplotlib.pyplot as plt"
   ]
  },
  {
   "cell_type": "code",
   "execution_count": 38,
   "metadata": {},
   "outputs": [],
   "source": [
    "class ConvNet(nn.Module):\n",
    "\n",
    "    def __init__(self):\n",
    "        super().__init__()\n",
    "\n",
    "        self.conv1 = nn.Conv2d(3, 16, 3, 1, padding=1)\n",
    "        self.conv2 = nn.Conv2d(16, 32, 3, 1, padding=1)\n",
    "        # self.conv3 = nn.Conv2d(32, 32, 3, 1, padding=1)\n",
    "        self.conv4 = nn.Conv2d(32, 64, 3, 1, padding=1)\n",
    "        self.fc1 = nn.Linear(4*4*64, 500)\n",
    "        self.dropout1 = nn.Dropout()\n",
    "        self.fc2 = nn.Linear(500, 10)\n",
    "\n",
    "\n",
    "    def forward(self, x):\n",
    "        x = F.relu(self.conv1(x))\n",
    "\n",
    "        x = F.max_pool2d(x, 2, 2)\n",
    "        x = F.relu(self.conv2(x))\n",
    "        x = F.max_pool2d(x, 2, 2)\n",
    "        # x = F.relu(self.conv3(x))\n",
    "        # x = F.max_pool2d(x, 2, 2)\n",
    "        x = F.relu(self.conv4(x))\n",
    "        x = F.max_pool2d(x, 2, 2)\n",
    "        x = x.view(-1, 4*4*64)\n",
    "        x = F.relu(self.fc1(x))\n",
    "        x = self.dropout1(x)\n",
    "        x = self.fc2(x)\n",
    "\n",
    "        return x"
   ]
  },
  {
   "cell_type": "code",
   "execution_count": 39,
   "metadata": {},
   "outputs": [
    {
     "name": "stdout",
     "output_type": "stream",
     "text": [
      "Files already downloaded and verified\n",
      "Files already downloaded and verified\n"
     ]
    }
   ],
   "source": [
    "# Задаем количество эпох (проходов по всей обучающей выборке) и размер пакета, можно варьировать\n",
    "EPOCHS = 20\n",
    "BATCH_SIZE = 256\n",
    "\n",
    "# Загружаем данные из набора CIFAR10\n",
    "train_data = datasets.CIFAR10(root='../data/cifar/train', train=True, download=True, transform=ToTensor())\n",
    "test_data = datasets.CIFAR10(root='../data/cifar/test', train=False, download=True, transform=ToTensor())\n",
    "\n",
    "# DataLoader позволяет разбить выборку на пакеты заданного размера.\n",
    "# Параметр shuffle отвечает за перемешивание данных в пакете\n",
    "train_loader = DataLoader(train_data, batch_size=BATCH_SIZE, shuffle=True)\n",
    "\n",
    "# Если графический ускоритель поддерживает обучение на нем, будем использовать его,\n",
    "# иначе обучать на процессоре.\n",
    "device = 'cuda' if torch.cuda.is_available() else 'cpu'\n",
    "\n",
    "# Готовимся к обучению\n",
    "model = ConvNet().to(device)  # создаем модель\n",
    "optimizer = torch.optim.AdamW(model.parameters())  # оптимизатор, нужно выбрать и настроить\n",
    "loss_function = nn.CrossEntropyLoss()  # функция потерь, нужно выбрать\n",
    "loss_history = list()  # список для хранения истории изменения функции стоимости"
   ]
  },
  {
   "cell_type": "code",
   "execution_count": 40,
   "metadata": {},
   "outputs": [
    {
     "name": "stderr",
     "output_type": "stream",
     "text": [
      "196it [00:11, 16.94it/s]\n"
     ]
    },
    {
     "name": "stdout",
     "output_type": "stream",
     "text": [
      "Эпоха 1 завершилась с функцией стоимости на последнем пакете = 1.5406367778778076\n"
     ]
    },
    {
     "name": "stderr",
     "output_type": "stream",
     "text": [
      "196it [00:11, 17.59it/s]\n"
     ]
    },
    {
     "name": "stdout",
     "output_type": "stream",
     "text": [
      "Эпоха 2 завершилась с функцией стоимости на последнем пакете = 1.4219441413879395\n"
     ]
    },
    {
     "name": "stderr",
     "output_type": "stream",
     "text": [
      "196it [00:10, 18.09it/s]\n"
     ]
    },
    {
     "name": "stdout",
     "output_type": "stream",
     "text": [
      "Эпоха 3 завершилась с функцией стоимости на последнем пакете = 1.24552583694458\n"
     ]
    },
    {
     "name": "stderr",
     "output_type": "stream",
     "text": [
      "196it [00:11, 16.91it/s]\n"
     ]
    },
    {
     "name": "stdout",
     "output_type": "stream",
     "text": [
      "Эпоха 4 завершилась с функцией стоимости на последнем пакете = 1.1452796459197998\n"
     ]
    },
    {
     "name": "stderr",
     "output_type": "stream",
     "text": [
      "196it [00:10, 18.01it/s]\n"
     ]
    },
    {
     "name": "stdout",
     "output_type": "stream",
     "text": [
      "Эпоха 5 завершилась с функцией стоимости на последнем пакете = 1.1350899934768677\n"
     ]
    },
    {
     "name": "stderr",
     "output_type": "stream",
     "text": [
      "196it [00:10, 18.13it/s]\n"
     ]
    },
    {
     "name": "stdout",
     "output_type": "stream",
     "text": [
      "Эпоха 6 завершилась с функцией стоимости на последнем пакете = 0.9554909467697144\n"
     ]
    },
    {
     "name": "stderr",
     "output_type": "stream",
     "text": [
      "196it [00:10, 18.42it/s]\n"
     ]
    },
    {
     "name": "stdout",
     "output_type": "stream",
     "text": [
      "Эпоха 7 завершилась с функцией стоимости на последнем пакете = 0.8484784364700317\n"
     ]
    },
    {
     "name": "stderr",
     "output_type": "stream",
     "text": [
      "196it [00:10, 18.18it/s]\n"
     ]
    },
    {
     "name": "stdout",
     "output_type": "stream",
     "text": [
      "Эпоха 8 завершилась с функцией стоимости на последнем пакете = 1.3678243160247803\n"
     ]
    },
    {
     "name": "stderr",
     "output_type": "stream",
     "text": [
      "196it [00:10, 18.15it/s]\n"
     ]
    },
    {
     "name": "stdout",
     "output_type": "stream",
     "text": [
      "Эпоха 9 завершилась с функцией стоимости на последнем пакете = 1.0520095825195312\n"
     ]
    },
    {
     "name": "stderr",
     "output_type": "stream",
     "text": [
      "196it [00:10, 18.45it/s]\n"
     ]
    },
    {
     "name": "stdout",
     "output_type": "stream",
     "text": [
      "Эпоха 10 завершилась с функцией стоимости на последнем пакете = 0.8909989595413208\n"
     ]
    },
    {
     "name": "stderr",
     "output_type": "stream",
     "text": [
      "196it [00:10, 18.44it/s]\n"
     ]
    },
    {
     "name": "stdout",
     "output_type": "stream",
     "text": [
      "Эпоха 11 завершилась с функцией стоимости на последнем пакете = 0.8980705142021179\n"
     ]
    },
    {
     "name": "stderr",
     "output_type": "stream",
     "text": [
      "196it [00:10, 18.21it/s]\n"
     ]
    },
    {
     "name": "stdout",
     "output_type": "stream",
     "text": [
      "Эпоха 12 завершилась с функцией стоимости на последнем пакете = 0.5187561511993408\n"
     ]
    },
    {
     "name": "stderr",
     "output_type": "stream",
     "text": [
      "196it [00:10, 18.39it/s]\n"
     ]
    },
    {
     "name": "stdout",
     "output_type": "stream",
     "text": [
      "Эпоха 13 завершилась с функцией стоимости на последнем пакете = 0.8652652502059937\n"
     ]
    },
    {
     "name": "stderr",
     "output_type": "stream",
     "text": [
      "196it [00:10, 18.31it/s]\n"
     ]
    },
    {
     "name": "stdout",
     "output_type": "stream",
     "text": [
      "Эпоха 14 завершилась с функцией стоимости на последнем пакете = 0.6700414419174194\n"
     ]
    },
    {
     "name": "stderr",
     "output_type": "stream",
     "text": [
      "196it [00:11, 17.78it/s]\n"
     ]
    },
    {
     "name": "stdout",
     "output_type": "stream",
     "text": [
      "Эпоха 15 завершилась с функцией стоимости на последнем пакете = 0.5752639770507812\n"
     ]
    },
    {
     "name": "stderr",
     "output_type": "stream",
     "text": [
      "196it [00:10, 18.46it/s]\n"
     ]
    },
    {
     "name": "stdout",
     "output_type": "stream",
     "text": [
      "Эпоха 16 завершилась с функцией стоимости на последнем пакете = 0.6513769030570984\n"
     ]
    },
    {
     "name": "stderr",
     "output_type": "stream",
     "text": [
      "196it [00:11, 17.78it/s]\n"
     ]
    },
    {
     "name": "stdout",
     "output_type": "stream",
     "text": [
      "Эпоха 17 завершилась с функцией стоимости на последнем пакете = 0.7290550470352173\n"
     ]
    },
    {
     "name": "stderr",
     "output_type": "stream",
     "text": [
      "196it [00:11, 17.49it/s]\n"
     ]
    },
    {
     "name": "stdout",
     "output_type": "stream",
     "text": [
      "Эпоха 18 завершилась с функцией стоимости на последнем пакете = 0.6420148015022278\n"
     ]
    },
    {
     "name": "stderr",
     "output_type": "stream",
     "text": [
      "196it [00:11, 17.57it/s]\n"
     ]
    },
    {
     "name": "stdout",
     "output_type": "stream",
     "text": [
      "Эпоха 19 завершилась с функцией стоимости на последнем пакете = 0.7347397208213806\n"
     ]
    },
    {
     "name": "stderr",
     "output_type": "stream",
     "text": [
      "196it [00:11, 17.73it/s]"
     ]
    },
    {
     "name": "stdout",
     "output_type": "stream",
     "text": [
      "Эпоха 20 завершилась с функцией стоимости на последнем пакете = 0.49760717153549194\n"
     ]
    },
    {
     "name": "stderr",
     "output_type": "stream",
     "text": [
      "\n"
     ]
    }
   ],
   "source": [
    "# Начинаем обучение\n",
    "for epoch in range(EPOCHS):\n",
    "    for i, (batch, labels) in tqdm(enumerate(train_loader)):  # разбиваем выборку на пакеты\n",
    "        optimizer.zero_grad()\n",
    "\n",
    "        # forward + backward + optimize\n",
    "        outputs = model(batch)\n",
    "        loss = loss_function(outputs, labels)\n",
    "        loss.backward()\n",
    "        optimizer.step()\n",
    "        \n",
    "        loss_history.append(loss.log().item())  # добавляется логарифм стоимости для большей наглядности\n",
    "    print(f'Эпоха {epoch + 1} завершилась с функцией стоимости на последнем пакете = {loss.item()}')"
   ]
  },
  {
   "cell_type": "code",
   "execution_count": 41,
   "metadata": {},
   "outputs": [
    {
     "data": {
      "image/png": "[encoded data removed]",
      "text/plain": [
       "<Figure size 432x288 with 1 Axes>"
      ]
     },
     "metadata": {},
     "output_type": "display_data"
    }
   ],
   "source": [
    "# Выводим график функции стоимости\n",
    "plt.title('Зависимость функции стоимости от номера шага градиентного спуска')\n",
    "plt.xlabel('Номер шага')\n",
    "plt.ylabel('Функция стоимости')\n",
    "plt.plot(loss_history)\n",
    "plt.show()"
   ]
  },
  {
   "cell_type": "code",
   "execution_count": 42,
   "metadata": {},
   "outputs": [
    {
     "name": "stdout",
     "output_type": "stream",
     "text": [
      "Точность (accuracy) на обучающей выборке: 0.7943\n",
      "Точность (accuracy) на тестовой выборке: 0.7003\n"
     ]
    }
   ],
   "source": [
    "# Отключаем расчет вычислительного графа для экономии времени и памяти: нам не нужно считать градиенты при тестировании модели\n",
    "with torch.no_grad():\n",
    "    # Оцениваем качество модели\n",
    "    train_data_loader = DataLoader(train_data, batch_size=len(train_data))\n",
    "    train_features, train_targets = next(iter(train_data_loader))\n",
    "\n",
    "    train_features = train_features.to(device)\n",
    "    train_model_predictions = torch.argmax(model(train_features), dim=1)\n",
    "    print('Точность (accuracy) на обучающей выборке:', accuracy_score(train_data.targets, train_model_predictions))\n",
    "\n",
    "    test_data_loader = DataLoader(test_data, batch_size=len(test_data))\n",
    "    test_features, test_targets = next(iter(test_data_loader))\n",
    "\n",
    "    test_features = test_features.to(device)\n",
    "    test_model_predictions = torch.argmax(model(test_features), dim=1)\n",
    "    print('Точность (accuracy) на тестовой выборке:', accuracy_score(test_data.targets, test_model_predictions))"
   ]
  },
  {
   "cell_type": "code",
   "execution_count": null,
   "metadata": {},
   "outputs": [],
   "source": []
  }
 ],
 "metadata": {
  "interpreter": {
   "hash": "a7d35ccc9069beebc945d05423ac0c6deb5a2cd97d7ddcaf21de10627e6326eb"
  },
  "kernelspec": {
   "display_name": "Python 3.9.9 64-bit ('ml')",
   "language": "python",
   "name": "python3"
  },
  "language_info": {
   "codemirror_mode": {
    "name": "ipython",
    "version": 3
   },
   "file_extension": ".py",
   "mimetype": "text/x-python",
   "name": "python",
   "nbconvert_exporter": "python",
   "pygments_lexer": "ipython3",
   "version": "3.9.9"
  },
  "orig_nbformat": 4
 },
 "nbformat": 4,
 "nbformat_minor": 2
}
