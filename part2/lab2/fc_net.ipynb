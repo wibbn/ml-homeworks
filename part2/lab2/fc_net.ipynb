{
 "cells": [
  {
   "cell_type": "code",
   "execution_count": 23,
   "metadata": {},
   "outputs": [],
   "source": [
    "from tqdm import tqdm\n",
    "\n",
    "# Импортируем основные модули pytorch\n",
    "import torch\n",
    "import torch.nn as nn\n",
    "from torch.utils.data import DataLoader\n",
    "\n",
    "# Импортируем модули, связанные с компьютерным зрением\n",
    "from torchvision import datasets\n",
    "from torchvision.transforms import ToTensor\n",
    "\n",
    "# Импортируем вспомогательные модули\n",
    "from sklearn.metrics import accuracy_score\n",
    "import matplotlib.pyplot as plt"
   ]
  },
  {
   "cell_type": "code",
   "execution_count": 30,
   "metadata": {},
   "outputs": [],
   "source": [
    "class FCNet(nn.Module):\n",
    "\n",
    "    def __init__(self):\n",
    "        super().__init__()\n",
    "\n",
    "        self.fc1 = nn.Linear(3*32*32, 500)\n",
    "        self.fc2 = nn.Linear(500, 200)\n",
    "        self.fc3 = nn.Linear(200, 80)\n",
    "        self.fc4 = nn.Linear(80, 10)\n",
    "        self.relu = nn.ReLU()\n",
    "        self.dropout = nn.Dropout()\n",
    "        self.bn = nn.BatchNorm1d(500)\n",
    "        # self.bn = nn.BatchNorm1d()\n",
    "\n",
    "    def forward(self, x):\n",
    "        x = torch.flatten(x, 1)\n",
    "        x = self.relu(self.fc1(x))\n",
    "        x = self.bn(x)\n",
    "        x = self.relu(self.fc2(x))\n",
    "        x = self.dropout(x)\n",
    "        x = self.relu(self.fc3(x))\n",
    "        x = self.fc4(x)\n",
    "\n",
    "        return x"
   ]
  },
  {
   "cell_type": "code",
   "execution_count": 31,
   "metadata": {},
   "outputs": [
    {
     "name": "stdout",
     "output_type": "stream",
     "text": [
      "Files already downloaded and verified\n",
      "Files already downloaded and verified\n"
     ]
    }
   ],
   "source": [
    "# Задаем количество эпох (проходов по всей обучающей выборке) и размер пакета, можно варьировать\n",
    "EPOCHS = 20\n",
    "BATCH_SIZE = 256\n",
    "\n",
    "# Загружаем данные из набора CIFAR10\n",
    "train_data = datasets.CIFAR10(root='./data/cifar/train', train=True, download=True, transform=ToTensor())\n",
    "test_data = datasets.CIFAR10(root='./data/cifar/test', train=False, download=True, transform=ToTensor())\n",
    "\n",
    "# DataLoader позволяет разбить выборку на пакеты заданного размера.\n",
    "# Параметр shuffle отвечает за перемешивание данных в пакете\n",
    "train_loader = DataLoader(train_data, batch_size=BATCH_SIZE, shuffle=True)\n",
    "\n",
    "# Если графический ускоритель поддерживает обучение на нем, будем использовать его,\n",
    "# иначе обучать на процессоре.\n",
    "device = 'cuda' if torch.cuda.is_available() else 'cpu'\n",
    "\n",
    "# Готовимся к обучению\n",
    "model = FCNet().to(device)  # создаем модель\n",
    "optimizer = torch.optim.AdamW(model.parameters())  # оптимизатор, нужно выбрать и настроить\n",
    "loss_function = nn.CrossEntropyLoss()  # функция потерь, нужно выбрать\n",
    "loss_history = list()  # список для хранения истории изменения функции стоимости"
   ]
  },
  {
   "cell_type": "code",
   "execution_count": 32,
   "metadata": {},
   "outputs": [
    {
     "name": "stderr",
     "output_type": "stream",
     "text": [
      "196it [00:03, 51.60it/s]\n"
     ]
    },
    {
     "name": "stdout",
     "output_type": "stream",
     "text": [
      "Эпоха 1 завершилась с функцией стоимости на последнем пакете = 1.630245566368103\n"
     ]
    },
    {
     "name": "stderr",
     "output_type": "stream",
     "text": [
      "196it [00:03, 52.03it/s]\n"
     ]
    },
    {
     "name": "stdout",
     "output_type": "stream",
     "text": [
      "Эпоха 2 завершилась с функцией стоимости на последнем пакете = 1.6100714206695557\n"
     ]
    },
    {
     "name": "stderr",
     "output_type": "stream",
     "text": [
      "196it [00:03, 49.52it/s]\n"
     ]
    },
    {
     "name": "stdout",
     "output_type": "stream",
     "text": [
      "Эпоха 3 завершилась с функцией стоимости на последнем пакете = 1.5179675817489624\n"
     ]
    },
    {
     "name": "stderr",
     "output_type": "stream",
     "text": [
      "196it [00:03, 52.18it/s]\n"
     ]
    },
    {
     "name": "stdout",
     "output_type": "stream",
     "text": [
      "Эпоха 4 завершилась с функцией стоимости на последнем пакете = 1.7035176753997803\n"
     ]
    },
    {
     "name": "stderr",
     "output_type": "stream",
     "text": [
      "196it [00:03, 51.52it/s]\n"
     ]
    },
    {
     "name": "stdout",
     "output_type": "stream",
     "text": [
      "Эпоха 5 завершилась с функцией стоимости на последнем пакете = 1.343756914138794\n"
     ]
    },
    {
     "name": "stderr",
     "output_type": "stream",
     "text": [
      "196it [00:03, 51.36it/s]\n"
     ]
    },
    {
     "name": "stdout",
     "output_type": "stream",
     "text": [
      "Эпоха 6 завершилась с функцией стоимости на последнем пакете = 1.439924955368042\n"
     ]
    },
    {
     "name": "stderr",
     "output_type": "stream",
     "text": [
      "196it [00:03, 52.03it/s]\n"
     ]
    },
    {
     "name": "stdout",
     "output_type": "stream",
     "text": [
      "Эпоха 7 завершилась с функцией стоимости на последнем пакете = 1.399043083190918\n"
     ]
    },
    {
     "name": "stderr",
     "output_type": "stream",
     "text": [
      "196it [00:03, 51.87it/s]\n"
     ]
    },
    {
     "name": "stdout",
     "output_type": "stream",
     "text": [
      "Эпоха 8 завершилась с функцией стоимости на последнем пакете = 1.3582701683044434\n"
     ]
    },
    {
     "name": "stderr",
     "output_type": "stream",
     "text": [
      "196it [00:03, 51.90it/s]\n"
     ]
    },
    {
     "name": "stdout",
     "output_type": "stream",
     "text": [
      "Эпоха 9 завершилась с функцией стоимости на последнем пакете = 1.314195156097412\n"
     ]
    },
    {
     "name": "stderr",
     "output_type": "stream",
     "text": [
      "196it [00:03, 50.26it/s]\n"
     ]
    },
    {
     "name": "stdout",
     "output_type": "stream",
     "text": [
      "Эпоха 10 завершилась с функцией стоимости на последнем пакете = 1.3083912134170532\n"
     ]
    },
    {
     "name": "stderr",
     "output_type": "stream",
     "text": [
      "196it [00:03, 50.14it/s]\n"
     ]
    },
    {
     "name": "stdout",
     "output_type": "stream",
     "text": [
      "Эпоха 11 завершилась с функцией стоимости на последнем пакете = 1.4045226573944092\n"
     ]
    },
    {
     "name": "stderr",
     "output_type": "stream",
     "text": [
      "196it [00:03, 50.49it/s]\n"
     ]
    },
    {
     "name": "stdout",
     "output_type": "stream",
     "text": [
      "Эпоха 12 завершилась с функцией стоимости на последнем пакете = 1.5022761821746826\n"
     ]
    },
    {
     "name": "stderr",
     "output_type": "stream",
     "text": [
      "196it [00:04, 48.84it/s]\n"
     ]
    },
    {
     "name": "stdout",
     "output_type": "stream",
     "text": [
      "Эпоха 13 завершилась с функцией стоимости на последнем пакете = 1.2103216648101807\n"
     ]
    },
    {
     "name": "stderr",
     "output_type": "stream",
     "text": [
      "196it [00:03, 51.91it/s]\n"
     ]
    },
    {
     "name": "stdout",
     "output_type": "stream",
     "text": [
      "Эпоха 14 завершилась с функцией стоимости на последнем пакете = 1.2610697746276855\n"
     ]
    },
    {
     "name": "stderr",
     "output_type": "stream",
     "text": [
      "196it [00:03, 51.68it/s]\n"
     ]
    },
    {
     "name": "stdout",
     "output_type": "stream",
     "text": [
      "Эпоха 15 завершилась с функцией стоимости на последнем пакете = 1.4228031635284424\n"
     ]
    },
    {
     "name": "stderr",
     "output_type": "stream",
     "text": [
      "196it [00:03, 51.43it/s]\n"
     ]
    },
    {
     "name": "stdout",
     "output_type": "stream",
     "text": [
      "Эпоха 16 завершилась с функцией стоимости на последнем пакете = 1.1537609100341797\n"
     ]
    },
    {
     "name": "stderr",
     "output_type": "stream",
     "text": [
      "196it [00:03, 51.87it/s]\n"
     ]
    },
    {
     "name": "stdout",
     "output_type": "stream",
     "text": [
      "Эпоха 17 завершилась с функцией стоимости на последнем пакете = 1.5625357627868652\n"
     ]
    },
    {
     "name": "stderr",
     "output_type": "stream",
     "text": [
      "196it [00:03, 51.52it/s]\n"
     ]
    },
    {
     "name": "stdout",
     "output_type": "stream",
     "text": [
      "Эпоха 18 завершилась с функцией стоимости на последнем пакете = 1.152531385421753\n"
     ]
    },
    {
     "name": "stderr",
     "output_type": "stream",
     "text": [
      "196it [00:03, 51.67it/s]\n"
     ]
    },
    {
     "name": "stdout",
     "output_type": "stream",
     "text": [
      "Эпоха 19 завершилась с функцией стоимости на последнем пакете = 1.356167197227478\n"
     ]
    },
    {
     "name": "stderr",
     "output_type": "stream",
     "text": [
      "196it [00:03, 50.67it/s]"
     ]
    },
    {
     "name": "stdout",
     "output_type": "stream",
     "text": [
      "Эпоха 20 завершилась с функцией стоимости на последнем пакете = 1.3073152303695679\n"
     ]
    },
    {
     "name": "stderr",
     "output_type": "stream",
     "text": [
      "\n"
     ]
    }
   ],
   "source": [
    "# Начинаем обучение\n",
    "for epoch in range(EPOCHS):\n",
    "    for i, (batch, labels) in tqdm(enumerate(train_loader)):  # разбиваем выборку на пакеты\n",
    "        optimizer.zero_grad()\n",
    "\n",
    "        # forward + backward + optimize\n",
    "        outputs = model(batch)\n",
    "        loss = loss_function(outputs, labels)\n",
    "        loss.backward()\n",
    "        optimizer.step()\n",
    "        \n",
    "        loss_history.append(loss.log().item())  # добавляется логарифм стоимости для большей наглядности\n",
    "    print(f'Эпоха {epoch + 1} завершилась с функцией стоимости на последнем пакете = {loss.item()}')"
   ]
  },
  {
   "cell_type": "code",
   "execution_count": 33,
   "metadata": {},
   "outputs": [
    {
     "data": {
      "image/png": "[encoded data removed]",
      "text/plain": [
       "<Figure size 432x288 with 1 Axes>"
      ]
     },
     "metadata": {},
     "output_type": "display_data"
    }
   ],
   "source": [
    "# Выводим график функции стоимости\n",
    "plt.title('Зависимость функции стоимости от номера шага градиентного спуска')\n",
    "plt.xlabel('Номер шага')\n",
    "plt.ylabel('Функция стоимости')\n",
    "plt.plot(loss_history)\n",
    "plt.show()"
   ]
  },
  {
   "cell_type": "code",
   "execution_count": 34,
   "metadata": {},
   "outputs": [
    {
     "name": "stdout",
     "output_type": "stream",
     "text": [
      "Точность (accuracy) на обучающей выборке: 0.57388\n",
      "Точность (accuracy) на тестовой выборке: 0.5179\n"
     ]
    }
   ],
   "source": [
    "# Отключаем расчет вычислительного графа для экономии времени и памяти: нам не нужно считать градиенты при тестировании модели\n",
    "with torch.no_grad():\n",
    "    # Оцениваем качество модели\n",
    "    train_data_loader = DataLoader(train_data, batch_size=len(train_data))\n",
    "    train_features, train_targets = next(iter(train_data_loader))\n",
    "\n",
    "    train_features = train_features.to(device)\n",
    "    train_model_predictions = torch.argmax(model(train_features), dim=1)\n",
    "    print('Точность (accuracy) на обучающей выборке:', accuracy_score(train_data.targets, train_model_predictions))\n",
    "\n",
    "    test_data_loader = DataLoader(test_data, batch_size=len(test_data))\n",
    "    test_features, test_targets = next(iter(test_data_loader))\n",
    "\n",
    "    test_features = test_features.to(device)\n",
    "    test_model_predictions = torch.argmax(model(test_features), dim=1)\n",
    "    print('Точность (accuracy) на тестовой выборке:', accuracy_score(test_data.targets, test_model_predictions))"
   ]
  }
 ],
 "metadata": {
  "interpreter": {
   "hash": "a7d35ccc9069beebc945d05423ac0c6deb5a2cd97d7ddcaf21de10627e6326eb"
  },
  "kernelspec": {
   "display_name": "Python 3.9.9 64-bit ('ml')",
   "language": "python",
   "name": "python3"
  },
  "language_info": {
   "codemirror_mode": {
    "name": "ipython",
    "version": 3
   },
   "file_extension": ".py",
   "mimetype": "text/x-python",
   "name": "python",
   "nbconvert_exporter": "python",
   "pygments_lexer": "ipython3",
   "version": "3.9.9"
  },
  "orig_nbformat": 4
 },
 "nbformat": 4,
 "nbformat_minor": 2
}
