{
 "cells": [
  {
   "cell_type": "code",
   "execution_count": 1,
   "metadata": {},
   "outputs": [],
   "source": [
    "# Импортируем основные модули pytorch\n",
    "import torch\n",
    "import torch.nn as nn\n",
    "from torch.utils.data import DataLoader\n",
    "\n",
    "# Импортируем модули, связанные с компьютерным зрением\n",
    "from torchvision import datasets\n",
    "import torchvision.transforms as T  # пакет transforms будет доступен под именем T\n",
    "from torchvision.models import googlenet  # импортируем модель AlexNet\n",
    "\n",
    "# Импортируем вспомогательные модули\n",
    "from sklearn.metrics import accuracy_score\n",
    "import matplotlib.pyplot as plt\n",
    "\n",
    "\n",
    "# В данной лабораторной работе предлагается дообучить предобученные модели на уже известном нам наборе CIFAR10.\n",
    "# В этой части предлагается поработать с архитектурой AlexNet.\n",
    "# Необходимо:\n",
    "# 1. Подготовить изображения (см. ниже);\n",
    "# 2. \"Заморозить\" веса предобученной модели;\n",
    "# 3. Заменить последний слой для соответствия размерности выхода 10-яти классам;\n",
    "# 4. Дообучить модель."
   ]
  },
  {
   "cell_type": "code",
   "execution_count": 2,
   "metadata": {},
   "outputs": [
    {
     "name": "stdout",
     "output_type": "stream",
     "text": [
      "Files already downloaded and verified\n",
      "Files already downloaded and verified\n"
     ]
    }
   ],
   "source": [
    "# Последовательность преобразований исходных изображений. Нужно заполнить.\n",
    "# Смысл этих преобразований в том, чтобы привести входные изображения из набора CIFAR10 к тому виду, который был у\n",
    "# изображений из набора, на котором была предобучена сеть. А именно:\n",
    "# 1. Картинки 3-ех канальные с размером 224 х 224 пикселей.\n",
    "# 2. Картики должны быть преобразованы в тензор и иметь цветовые компоненты на отрезке [0; 1].\n",
    "# 3. Среднее по цветовым каналам должно быть [0.485, 0.456, 0.406], а среднеквадратическое отклонение [0.229, 0.224, 0.225].\n",
    "# Посмотрите документацию по классам Compose, Resize, CenterCrop, ToTensor, Normalize из пакета torchvision.transforms.\n",
    "transforms = T.Compose([\n",
    "    # ВАШ КОД ЗДЕСЬ\n",
    "    T.Resize(256),\n",
    "    T.CenterCrop(224),\n",
    "    T.ToTensor(),\n",
    "    T.Normalize([0.485, 0.456, 0.406],[0.229, 0.224, 0.225])\n",
    "    # ===============\n",
    "])\n",
    "\n",
    "# Задаем количество эпох (проходов по всей обучающей выборке) и размер пакета, можно варьировать\n",
    "EPOCHS = 10\n",
    "BATCH_SIZE = 256\n",
    "\n",
    "# Загружаем данные из набора CIFAR10\n",
    "train_data = datasets.CIFAR10(root='./data/train', train=True, download=True, transform=transforms)\n",
    "test_data = datasets.CIFAR10(root='./data/test', train=False, download=True, transform=transforms)\n",
    "\n",
    "# DataLoader позволяет разбить выборку на пакеты заданного размера.\n",
    "# Параметр shuffle отвечает за перемешивание данных в пакете\n",
    "train_loader = DataLoader(train_data, batch_size=BATCH_SIZE, shuffle=True)"
   ]
  },
  {
   "cell_type": "code",
   "execution_count": 3,
   "metadata": {},
   "outputs": [],
   "source": [
    "# Если графический ускоритель поддерживает обучение на нем, будем использовать его,\n",
    "# иначе обучать на процессоре.\n",
    "device = 'cuda' if torch.cuda.is_available() else 'cpu'"
   ]
  },
  {
   "cell_type": "code",
   "execution_count": 11,
   "metadata": {},
   "outputs": [],
   "source": [
    "model = googlenet(pretrained=True)  # загружаем модель с предобученными весами\n",
    "# Здесь необходимо выполнить 2-ой и 3-ий пункты.\n",
    "# ВАШ КОД ЗДЕСЬ\n",
    "for param in model.parameters():\n",
    "    param.requires_grad = False\n",
    "model.fc = nn.Linear(in_features=1024, out_features=10)\n",
    "# ===============\n",
    "\n",
    "# Готовимся к обучению\n",
    "model = model.to(device)  # переносим модель на доступное устройство\n",
    "optimizer = torch.optim.AdamW(filter(lambda p: p.requires_grad, model.parameters()))  # оптимизатор, нужно выбрать и настроить\n",
    "loss_function = nn.CrossEntropyLoss()  # функция потерь, нужно выбрать\n",
    "loss_history = list()  # список для хранения истории изменения функции стоимости"
   ]
  },
  {
   "cell_type": "code",
   "execution_count": 12,
   "metadata": {},
   "outputs": [],
   "source": [
    "from tqdm import tqdm"
   ]
  },
  {
   "cell_type": "code",
   "execution_count": 13,
   "metadata": {},
   "outputs": [
    {
     "name": "stderr",
     "output_type": "stream",
     "text": [
      "0it [00:00, ?it/s]/home/wibbn/.pyenv/versions/3.8.12/envs/cv/lib/python3.8/site-packages/torch/nn/functional.py:780: UserWarning: Note that order of the arguments: ceil_mode and return_indices will changeto match the args list in nn.MaxPool2d in a future release.\n",
      "  warnings.warn(\"Note that order of the arguments: ceil_mode and return_indices will change\"\n",
      "196it [01:55,  1.69it/s]\n",
      "0it [00:00, ?it/s]"
     ]
    },
    {
     "name": "stdout",
     "output_type": "stream",
     "text": [
      "Эпоха 1 завершилась с функцией стоимости на последнем пакете = 0.876346230506897\n"
     ]
    },
    {
     "name": "stderr",
     "output_type": "stream",
     "text": [
      "196it [01:56,  1.68it/s]\n",
      "0it [00:00, ?it/s]"
     ]
    },
    {
     "name": "stdout",
     "output_type": "stream",
     "text": [
      "Эпоха 2 завершилась с функцией стоимости на последнем пакете = 0.7102549076080322\n"
     ]
    },
    {
     "name": "stderr",
     "output_type": "stream",
     "text": [
      "196it [01:56,  1.69it/s]\n",
      "0it [00:00, ?it/s]"
     ]
    },
    {
     "name": "stdout",
     "output_type": "stream",
     "text": [
      "Эпоха 3 завершилась с функцией стоимости на последнем пакете = 0.5698080062866211\n"
     ]
    },
    {
     "name": "stderr",
     "output_type": "stream",
     "text": [
      "196it [01:54,  1.71it/s]\n",
      "0it [00:00, ?it/s]"
     ]
    },
    {
     "name": "stdout",
     "output_type": "stream",
     "text": [
      "Эпоха 4 завершилась с функцией стоимости на последнем пакете = 0.7759522199630737\n"
     ]
    },
    {
     "name": "stderr",
     "output_type": "stream",
     "text": [
      "196it [01:56,  1.68it/s]\n",
      "0it [00:00, ?it/s]"
     ]
    },
    {
     "name": "stdout",
     "output_type": "stream",
     "text": [
      "Эпоха 5 завершилась с функцией стоимости на последнем пакете = 0.6982570886611938\n"
     ]
    },
    {
     "name": "stderr",
     "output_type": "stream",
     "text": [
      "196it [01:56,  1.68it/s]\n",
      "0it [00:00, ?it/s]"
     ]
    },
    {
     "name": "stdout",
     "output_type": "stream",
     "text": [
      "Эпоха 6 завершилась с функцией стоимости на последнем пакете = 0.5480338335037231\n"
     ]
    },
    {
     "name": "stderr",
     "output_type": "stream",
     "text": [
      "196it [01:56,  1.68it/s]\n",
      "0it [00:00, ?it/s]"
     ]
    },
    {
     "name": "stdout",
     "output_type": "stream",
     "text": [
      "Эпоха 7 завершилась с функцией стоимости на последнем пакете = 0.6557028889656067\n"
     ]
    },
    {
     "name": "stderr",
     "output_type": "stream",
     "text": [
      "196it [01:56,  1.68it/s]\n",
      "0it [00:00, ?it/s]"
     ]
    },
    {
     "name": "stdout",
     "output_type": "stream",
     "text": [
      "Эпоха 8 завершилась с функцией стоимости на последнем пакете = 0.8983152508735657\n"
     ]
    },
    {
     "name": "stderr",
     "output_type": "stream",
     "text": [
      "196it [01:56,  1.68it/s]\n",
      "0it [00:00, ?it/s]"
     ]
    },
    {
     "name": "stdout",
     "output_type": "stream",
     "text": [
      "Эпоха 9 завершилась с функцией стоимости на последнем пакете = 0.534217357635498\n"
     ]
    },
    {
     "name": "stderr",
     "output_type": "stream",
     "text": [
      "196it [01:54,  1.71it/s]\n"
     ]
    },
    {
     "name": "stdout",
     "output_type": "stream",
     "text": [
      "Эпоха 10 завершилась с функцией стоимости на последнем пакете = 0.8616951107978821\n"
     ]
    },
    {
     "data": {
      "image/png": "[encoded data removed]",
      "text/plain": [
       "<Figure size 432x288 with 1 Axes>"
      ]
     },
     "metadata": {},
     "output_type": "display_data"
    }
   ],
   "source": [
    "# Начинаем обучение\n",
    "for epoch in range(EPOCHS):\n",
    "    for i, (batch, labels) in tqdm(enumerate(train_loader)):  # разбиваем выборку на пакеты\n",
    "        # Нужно реализовать один шаг градиентного спуска\n",
    "        # loss = torch.tensor(0, dtype=torch.float32)  # значение функции стоимости на пакете, нужно рассчитать\n",
    "        # ВАШ КОД ЗДЕСЬ\n",
    "        model.zero_grad()\n",
    "        outputs = model(batch.to(device))\n",
    "        loss = loss_function(outputs, labels.to(device))\n",
    "        loss.backward()\n",
    "        optimizer.step()\n",
    "        # ===============\n",
    "        loss_history.append(loss.log().item())  # добавляется логарифм стоимости для большей наглядности\n",
    "    print(f'Эпоха {epoch + 1} завершилась с функцией стоимости на последнем пакете = {loss.item()}')\n",
    "\n",
    "\n",
    "# Выводим график функции стоимости\n",
    "plt.title('Зависимость функции стоимости от номера шага градиентного спуска')\n",
    "plt.xlabel('Номер шага')\n",
    "plt.ylabel('Функция стоимости')\n",
    "plt.plot(loss_history)\n",
    "plt.show()"
   ]
  },
  {
   "cell_type": "code",
   "execution_count": 16,
   "metadata": {},
   "outputs": [],
   "source": [
    "torch.save(model, 'googlenet.ckpt')"
   ]
  },
  {
   "cell_type": "code",
   "execution_count": 4,
   "metadata": {},
   "outputs": [],
   "source": [
    "model = torch.load('googlenet.ckpt')"
   ]
  },
  {
   "cell_type": "code",
   "execution_count": 8,
   "metadata": {},
   "outputs": [
    {
     "ename": "RuntimeError",
     "evalue": "CUDA out of memory. Tried to allocate 784.00 MiB (GPU 0; 7.80 GiB total capacity; 5.36 GiB already allocated; 178.12 MiB free; 5.75 GiB reserved in total by PyTorch) If reserved memory is >> allocated memory try setting max_split_size_mb to avoid fragmentation.  See documentation for Memory Management and PYTORCH_CUDA_ALLOC_CONF",
     "output_type": "error",
     "traceback": [
      "\u001b[0;31m---------------------------------------------------------------------------\u001b[0m",
      "\u001b[0;31mRuntimeError\u001b[0m                              Traceback (most recent call last)",
      "\u001b[1;32m/home/wibbn/projects/ml-homeworks/part2/lab3/googlenet.ipynb Cell 9'\u001b[0m in \u001b[0;36m<cell line: 2>\u001b[0;34m()\u001b[0m\n\u001b[1;32m      <a href='vscode-notebook-cell:/home/wibbn/projects/ml-homeworks/part2/lab3/googlenet.ipynb#ch0000005?line=4'>5</a>\u001b[0m train_features, train_targets \u001b[39m=\u001b[39m \u001b[39mnext\u001b[39m(\u001b[39miter\u001b[39m(train_data_loader))\n\u001b[1;32m      <a href='vscode-notebook-cell:/home/wibbn/projects/ml-homeworks/part2/lab3/googlenet.ipynb#ch0000005?line=6'>7</a>\u001b[0m train_features \u001b[39m=\u001b[39m train_features\u001b[39m.\u001b[39mto(device)\n\u001b[0;32m----> <a href='vscode-notebook-cell:/home/wibbn/projects/ml-homeworks/part2/lab3/googlenet.ipynb#ch0000005?line=7'>8</a>\u001b[0m train_model_predictions \u001b[39m=\u001b[39m torch\u001b[39m.\u001b[39margmax(model(train_features), dim\u001b[39m=\u001b[39m\u001b[39m1\u001b[39m)\n\u001b[1;32m      <a href='vscode-notebook-cell:/home/wibbn/projects/ml-homeworks/part2/lab3/googlenet.ipynb#ch0000005?line=8'>9</a>\u001b[0m \u001b[39mprint\u001b[39m(\u001b[39m'\u001b[39m\u001b[39mТочность (accuracy) на обучающей выборке:\u001b[39m\u001b[39m'\u001b[39m, accuracy_score(train_targets, train_model_predictions\u001b[39m.\u001b[39mcpu()))\n\u001b[1;32m     <a href='vscode-notebook-cell:/home/wibbn/projects/ml-homeworks/part2/lab3/googlenet.ipynb#ch0000005?line=10'>11</a>\u001b[0m test_data_loader \u001b[39m=\u001b[39m DataLoader(test_data, batch_size\u001b[39m=\u001b[39m\u001b[39m256\u001b[39m)\n",
      "File \u001b[0;32m~/.pyenv/versions/3.8.12/envs/cv/lib/python3.8/site-packages/torch/nn/modules/module.py:1110\u001b[0m, in \u001b[0;36mModule._call_impl\u001b[0;34m(self, *input, **kwargs)\u001b[0m\n\u001b[1;32m   <a href='file:///home/wibbn/.pyenv/versions/3.8.12/envs/cv/lib/python3.8/site-packages/torch/nn/modules/module.py?line=1105'>1106</a>\u001b[0m \u001b[39m# If we don't have any hooks, we want to skip the rest of the logic in\u001b[39;00m\n\u001b[1;32m   <a href='file:///home/wibbn/.pyenv/versions/3.8.12/envs/cv/lib/python3.8/site-packages/torch/nn/modules/module.py?line=1106'>1107</a>\u001b[0m \u001b[39m# this function, and just call forward.\u001b[39;00m\n\u001b[1;32m   <a href='file:///home/wibbn/.pyenv/versions/3.8.12/envs/cv/lib/python3.8/site-packages/torch/nn/modules/module.py?line=1107'>1108</a>\u001b[0m \u001b[39mif\u001b[39;00m \u001b[39mnot\u001b[39;00m (\u001b[39mself\u001b[39m\u001b[39m.\u001b[39m_backward_hooks \u001b[39mor\u001b[39;00m \u001b[39mself\u001b[39m\u001b[39m.\u001b[39m_forward_hooks \u001b[39mor\u001b[39;00m \u001b[39mself\u001b[39m\u001b[39m.\u001b[39m_forward_pre_hooks \u001b[39mor\u001b[39;00m _global_backward_hooks\n\u001b[1;32m   <a href='file:///home/wibbn/.pyenv/versions/3.8.12/envs/cv/lib/python3.8/site-packages/torch/nn/modules/module.py?line=1108'>1109</a>\u001b[0m         \u001b[39mor\u001b[39;00m _global_forward_hooks \u001b[39mor\u001b[39;00m _global_forward_pre_hooks):\n\u001b[0;32m-> <a href='file:///home/wibbn/.pyenv/versions/3.8.12/envs/cv/lib/python3.8/site-packages/torch/nn/modules/module.py?line=1109'>1110</a>\u001b[0m     \u001b[39mreturn\u001b[39;00m forward_call(\u001b[39m*\u001b[39;49m\u001b[39minput\u001b[39;49m, \u001b[39m*\u001b[39;49m\u001b[39m*\u001b[39;49mkwargs)\n\u001b[1;32m   <a href='file:///home/wibbn/.pyenv/versions/3.8.12/envs/cv/lib/python3.8/site-packages/torch/nn/modules/module.py?line=1110'>1111</a>\u001b[0m \u001b[39m# Do not call functions when jit is used\u001b[39;00m\n\u001b[1;32m   <a href='file:///home/wibbn/.pyenv/versions/3.8.12/envs/cv/lib/python3.8/site-packages/torch/nn/modules/module.py?line=1111'>1112</a>\u001b[0m full_backward_hooks, non_full_backward_hooks \u001b[39m=\u001b[39m [], []\n",
      "File \u001b[0;32m~/.pyenv/versions/3.8.12/envs/cv/lib/python3.8/site-packages/torchvision/models/googlenet.py:172\u001b[0m, in \u001b[0;36mGoogLeNet.forward\u001b[0;34m(self, x)\u001b[0m\n\u001b[1;32m    <a href='file:///home/wibbn/.pyenv/versions/3.8.12/envs/cv/lib/python3.8/site-packages/torchvision/models/googlenet.py?line=169'>170</a>\u001b[0m \u001b[39mdef\u001b[39;00m \u001b[39mforward\u001b[39m(\u001b[39mself\u001b[39m, x: Tensor) \u001b[39m-\u001b[39m\u001b[39m>\u001b[39m GoogLeNetOutputs:\n\u001b[1;32m    <a href='file:///home/wibbn/.pyenv/versions/3.8.12/envs/cv/lib/python3.8/site-packages/torchvision/models/googlenet.py?line=170'>171</a>\u001b[0m     x \u001b[39m=\u001b[39m \u001b[39mself\u001b[39m\u001b[39m.\u001b[39m_transform_input(x)\n\u001b[0;32m--> <a href='file:///home/wibbn/.pyenv/versions/3.8.12/envs/cv/lib/python3.8/site-packages/torchvision/models/googlenet.py?line=171'>172</a>\u001b[0m     x, aux1, aux2 \u001b[39m=\u001b[39m \u001b[39mself\u001b[39;49m\u001b[39m.\u001b[39;49m_forward(x)\n\u001b[1;32m    <a href='file:///home/wibbn/.pyenv/versions/3.8.12/envs/cv/lib/python3.8/site-packages/torchvision/models/googlenet.py?line=172'>173</a>\u001b[0m     aux_defined \u001b[39m=\u001b[39m \u001b[39mself\u001b[39m\u001b[39m.\u001b[39mtraining \u001b[39mand\u001b[39;00m \u001b[39mself\u001b[39m\u001b[39m.\u001b[39maux_logits\n\u001b[1;32m    <a href='file:///home/wibbn/.pyenv/versions/3.8.12/envs/cv/lib/python3.8/site-packages/torchvision/models/googlenet.py?line=173'>174</a>\u001b[0m     \u001b[39mif\u001b[39;00m torch\u001b[39m.\u001b[39mjit\u001b[39m.\u001b[39mis_scripting():\n",
      "File \u001b[0;32m~/.pyenv/versions/3.8.12/envs/cv/lib/python3.8/site-packages/torchvision/models/googlenet.py:110\u001b[0m, in \u001b[0;36mGoogLeNet._forward\u001b[0;34m(self, x)\u001b[0m\n\u001b[1;32m    <a href='file:///home/wibbn/.pyenv/versions/3.8.12/envs/cv/lib/python3.8/site-packages/torchvision/models/googlenet.py?line=107'>108</a>\u001b[0m \u001b[39mdef\u001b[39;00m \u001b[39m_forward\u001b[39m(\u001b[39mself\u001b[39m, x: Tensor) \u001b[39m-\u001b[39m\u001b[39m>\u001b[39m Tuple[Tensor, Optional[Tensor], Optional[Tensor]]:\n\u001b[1;32m    <a href='file:///home/wibbn/.pyenv/versions/3.8.12/envs/cv/lib/python3.8/site-packages/torchvision/models/googlenet.py?line=108'>109</a>\u001b[0m     \u001b[39m# N x 3 x 224 x 224\u001b[39;00m\n\u001b[0;32m--> <a href='file:///home/wibbn/.pyenv/versions/3.8.12/envs/cv/lib/python3.8/site-packages/torchvision/models/googlenet.py?line=109'>110</a>\u001b[0m     x \u001b[39m=\u001b[39m \u001b[39mself\u001b[39;49m\u001b[39m.\u001b[39;49mconv1(x)\n\u001b[1;32m    <a href='file:///home/wibbn/.pyenv/versions/3.8.12/envs/cv/lib/python3.8/site-packages/torchvision/models/googlenet.py?line=110'>111</a>\u001b[0m     \u001b[39m# N x 64 x 112 x 112\u001b[39;00m\n\u001b[1;32m    <a href='file:///home/wibbn/.pyenv/versions/3.8.12/envs/cv/lib/python3.8/site-packages/torchvision/models/googlenet.py?line=111'>112</a>\u001b[0m     x \u001b[39m=\u001b[39m \u001b[39mself\u001b[39m\u001b[39m.\u001b[39mmaxpool1(x)\n",
      "File \u001b[0;32m~/.pyenv/versions/3.8.12/envs/cv/lib/python3.8/site-packages/torch/nn/modules/module.py:1110\u001b[0m, in \u001b[0;36mModule._call_impl\u001b[0;34m(self, *input, **kwargs)\u001b[0m\n\u001b[1;32m   <a href='file:///home/wibbn/.pyenv/versions/3.8.12/envs/cv/lib/python3.8/site-packages/torch/nn/modules/module.py?line=1105'>1106</a>\u001b[0m \u001b[39m# If we don't have any hooks, we want to skip the rest of the logic in\u001b[39;00m\n\u001b[1;32m   <a href='file:///home/wibbn/.pyenv/versions/3.8.12/envs/cv/lib/python3.8/site-packages/torch/nn/modules/module.py?line=1106'>1107</a>\u001b[0m \u001b[39m# this function, and just call forward.\u001b[39;00m\n\u001b[1;32m   <a href='file:///home/wibbn/.pyenv/versions/3.8.12/envs/cv/lib/python3.8/site-packages/torch/nn/modules/module.py?line=1107'>1108</a>\u001b[0m \u001b[39mif\u001b[39;00m \u001b[39mnot\u001b[39;00m (\u001b[39mself\u001b[39m\u001b[39m.\u001b[39m_backward_hooks \u001b[39mor\u001b[39;00m \u001b[39mself\u001b[39m\u001b[39m.\u001b[39m_forward_hooks \u001b[39mor\u001b[39;00m \u001b[39mself\u001b[39m\u001b[39m.\u001b[39m_forward_pre_hooks \u001b[39mor\u001b[39;00m _global_backward_hooks\n\u001b[1;32m   <a href='file:///home/wibbn/.pyenv/versions/3.8.12/envs/cv/lib/python3.8/site-packages/torch/nn/modules/module.py?line=1108'>1109</a>\u001b[0m         \u001b[39mor\u001b[39;00m _global_forward_hooks \u001b[39mor\u001b[39;00m _global_forward_pre_hooks):\n\u001b[0;32m-> <a href='file:///home/wibbn/.pyenv/versions/3.8.12/envs/cv/lib/python3.8/site-packages/torch/nn/modules/module.py?line=1109'>1110</a>\u001b[0m     \u001b[39mreturn\u001b[39;00m forward_call(\u001b[39m*\u001b[39;49m\u001b[39minput\u001b[39;49m, \u001b[39m*\u001b[39;49m\u001b[39m*\u001b[39;49mkwargs)\n\u001b[1;32m   <a href='file:///home/wibbn/.pyenv/versions/3.8.12/envs/cv/lib/python3.8/site-packages/torch/nn/modules/module.py?line=1110'>1111</a>\u001b[0m \u001b[39m# Do not call functions when jit is used\u001b[39;00m\n\u001b[1;32m   <a href='file:///home/wibbn/.pyenv/versions/3.8.12/envs/cv/lib/python3.8/site-packages/torch/nn/modules/module.py?line=1111'>1112</a>\u001b[0m full_backward_hooks, non_full_backward_hooks \u001b[39m=\u001b[39m [], []\n",
      "File \u001b[0;32m~/.pyenv/versions/3.8.12/envs/cv/lib/python3.8/site-packages/torchvision/models/googlenet.py:272\u001b[0m, in \u001b[0;36mBasicConv2d.forward\u001b[0;34m(self, x)\u001b[0m\n\u001b[1;32m    <a href='file:///home/wibbn/.pyenv/versions/3.8.12/envs/cv/lib/python3.8/site-packages/torchvision/models/googlenet.py?line=269'>270</a>\u001b[0m \u001b[39mdef\u001b[39;00m \u001b[39mforward\u001b[39m(\u001b[39mself\u001b[39m, x: Tensor) \u001b[39m-\u001b[39m\u001b[39m>\u001b[39m Tensor:\n\u001b[1;32m    <a href='file:///home/wibbn/.pyenv/versions/3.8.12/envs/cv/lib/python3.8/site-packages/torchvision/models/googlenet.py?line=270'>271</a>\u001b[0m     x \u001b[39m=\u001b[39m \u001b[39mself\u001b[39m\u001b[39m.\u001b[39mconv(x)\n\u001b[0;32m--> <a href='file:///home/wibbn/.pyenv/versions/3.8.12/envs/cv/lib/python3.8/site-packages/torchvision/models/googlenet.py?line=271'>272</a>\u001b[0m     x \u001b[39m=\u001b[39m \u001b[39mself\u001b[39;49m\u001b[39m.\u001b[39;49mbn(x)\n\u001b[1;32m    <a href='file:///home/wibbn/.pyenv/versions/3.8.12/envs/cv/lib/python3.8/site-packages/torchvision/models/googlenet.py?line=272'>273</a>\u001b[0m     \u001b[39mreturn\u001b[39;00m F\u001b[39m.\u001b[39mrelu(x, inplace\u001b[39m=\u001b[39m\u001b[39mTrue\u001b[39;00m)\n",
      "File \u001b[0;32m~/.pyenv/versions/3.8.12/envs/cv/lib/python3.8/site-packages/torch/nn/modules/module.py:1110\u001b[0m, in \u001b[0;36mModule._call_impl\u001b[0;34m(self, *input, **kwargs)\u001b[0m\n\u001b[1;32m   <a href='file:///home/wibbn/.pyenv/versions/3.8.12/envs/cv/lib/python3.8/site-packages/torch/nn/modules/module.py?line=1105'>1106</a>\u001b[0m \u001b[39m# If we don't have any hooks, we want to skip the rest of the logic in\u001b[39;00m\n\u001b[1;32m   <a href='file:///home/wibbn/.pyenv/versions/3.8.12/envs/cv/lib/python3.8/site-packages/torch/nn/modules/module.py?line=1106'>1107</a>\u001b[0m \u001b[39m# this function, and just call forward.\u001b[39;00m\n\u001b[1;32m   <a href='file:///home/wibbn/.pyenv/versions/3.8.12/envs/cv/lib/python3.8/site-packages/torch/nn/modules/module.py?line=1107'>1108</a>\u001b[0m \u001b[39mif\u001b[39;00m \u001b[39mnot\u001b[39;00m (\u001b[39mself\u001b[39m\u001b[39m.\u001b[39m_backward_hooks \u001b[39mor\u001b[39;00m \u001b[39mself\u001b[39m\u001b[39m.\u001b[39m_forward_hooks \u001b[39mor\u001b[39;00m \u001b[39mself\u001b[39m\u001b[39m.\u001b[39m_forward_pre_hooks \u001b[39mor\u001b[39;00m _global_backward_hooks\n\u001b[1;32m   <a href='file:///home/wibbn/.pyenv/versions/3.8.12/envs/cv/lib/python3.8/site-packages/torch/nn/modules/module.py?line=1108'>1109</a>\u001b[0m         \u001b[39mor\u001b[39;00m _global_forward_hooks \u001b[39mor\u001b[39;00m _global_forward_pre_hooks):\n\u001b[0;32m-> <a href='file:///home/wibbn/.pyenv/versions/3.8.12/envs/cv/lib/python3.8/site-packages/torch/nn/modules/module.py?line=1109'>1110</a>\u001b[0m     \u001b[39mreturn\u001b[39;00m forward_call(\u001b[39m*\u001b[39;49m\u001b[39minput\u001b[39;49m, \u001b[39m*\u001b[39;49m\u001b[39m*\u001b[39;49mkwargs)\n\u001b[1;32m   <a href='file:///home/wibbn/.pyenv/versions/3.8.12/envs/cv/lib/python3.8/site-packages/torch/nn/modules/module.py?line=1110'>1111</a>\u001b[0m \u001b[39m# Do not call functions when jit is used\u001b[39;00m\n\u001b[1;32m   <a href='file:///home/wibbn/.pyenv/versions/3.8.12/envs/cv/lib/python3.8/site-packages/torch/nn/modules/module.py?line=1111'>1112</a>\u001b[0m full_backward_hooks, non_full_backward_hooks \u001b[39m=\u001b[39m [], []\n",
      "File \u001b[0;32m~/.pyenv/versions/3.8.12/envs/cv/lib/python3.8/site-packages/torch/nn/modules/batchnorm.py:168\u001b[0m, in \u001b[0;36m_BatchNorm.forward\u001b[0;34m(self, input)\u001b[0m\n\u001b[1;32m    <a href='file:///home/wibbn/.pyenv/versions/3.8.12/envs/cv/lib/python3.8/site-packages/torch/nn/modules/batchnorm.py?line=160'>161</a>\u001b[0m     bn_training \u001b[39m=\u001b[39m (\u001b[39mself\u001b[39m\u001b[39m.\u001b[39mrunning_mean \u001b[39mis\u001b[39;00m \u001b[39mNone\u001b[39;00m) \u001b[39mand\u001b[39;00m (\u001b[39mself\u001b[39m\u001b[39m.\u001b[39mrunning_var \u001b[39mis\u001b[39;00m \u001b[39mNone\u001b[39;00m)\n\u001b[1;32m    <a href='file:///home/wibbn/.pyenv/versions/3.8.12/envs/cv/lib/python3.8/site-packages/torch/nn/modules/batchnorm.py?line=162'>163</a>\u001b[0m \u001b[39mr\u001b[39m\u001b[39m\"\"\"\u001b[39;00m\n\u001b[1;32m    <a href='file:///home/wibbn/.pyenv/versions/3.8.12/envs/cv/lib/python3.8/site-packages/torch/nn/modules/batchnorm.py?line=163'>164</a>\u001b[0m \u001b[39mBuffers are only updated if they are to be tracked and we are in training mode. Thus they only need to be\u001b[39;00m\n\u001b[1;32m    <a href='file:///home/wibbn/.pyenv/versions/3.8.12/envs/cv/lib/python3.8/site-packages/torch/nn/modules/batchnorm.py?line=164'>165</a>\u001b[0m \u001b[39mpassed when the update should occur (i.e. in training mode when they are tracked), or when buffer stats are\u001b[39;00m\n\u001b[1;32m    <a href='file:///home/wibbn/.pyenv/versions/3.8.12/envs/cv/lib/python3.8/site-packages/torch/nn/modules/batchnorm.py?line=165'>166</a>\u001b[0m \u001b[39mused for normalization (i.e. in eval mode when buffers are not None).\u001b[39;00m\n\u001b[1;32m    <a href='file:///home/wibbn/.pyenv/versions/3.8.12/envs/cv/lib/python3.8/site-packages/torch/nn/modules/batchnorm.py?line=166'>167</a>\u001b[0m \u001b[39m\"\"\"\u001b[39;00m\n\u001b[0;32m--> <a href='file:///home/wibbn/.pyenv/versions/3.8.12/envs/cv/lib/python3.8/site-packages/torch/nn/modules/batchnorm.py?line=167'>168</a>\u001b[0m \u001b[39mreturn\u001b[39;00m F\u001b[39m.\u001b[39;49mbatch_norm(\n\u001b[1;32m    <a href='file:///home/wibbn/.pyenv/versions/3.8.12/envs/cv/lib/python3.8/site-packages/torch/nn/modules/batchnorm.py?line=168'>169</a>\u001b[0m     \u001b[39minput\u001b[39;49m,\n\u001b[1;32m    <a href='file:///home/wibbn/.pyenv/versions/3.8.12/envs/cv/lib/python3.8/site-packages/torch/nn/modules/batchnorm.py?line=169'>170</a>\u001b[0m     \u001b[39m# If buffers are not to be tracked, ensure that they won't be updated\u001b[39;49;00m\n\u001b[1;32m    <a href='file:///home/wibbn/.pyenv/versions/3.8.12/envs/cv/lib/python3.8/site-packages/torch/nn/modules/batchnorm.py?line=170'>171</a>\u001b[0m     \u001b[39mself\u001b[39;49m\u001b[39m.\u001b[39;49mrunning_mean\n\u001b[1;32m    <a href='file:///home/wibbn/.pyenv/versions/3.8.12/envs/cv/lib/python3.8/site-packages/torch/nn/modules/batchnorm.py?line=171'>172</a>\u001b[0m     \u001b[39mif\u001b[39;49;00m \u001b[39mnot\u001b[39;49;00m \u001b[39mself\u001b[39;49m\u001b[39m.\u001b[39;49mtraining \u001b[39mor\u001b[39;49;00m \u001b[39mself\u001b[39;49m\u001b[39m.\u001b[39;49mtrack_running_stats\n\u001b[1;32m    <a href='file:///home/wibbn/.pyenv/versions/3.8.12/envs/cv/lib/python3.8/site-packages/torch/nn/modules/batchnorm.py?line=172'>173</a>\u001b[0m     \u001b[39melse\u001b[39;49;00m \u001b[39mNone\u001b[39;49;00m,\n\u001b[1;32m    <a href='file:///home/wibbn/.pyenv/versions/3.8.12/envs/cv/lib/python3.8/site-packages/torch/nn/modules/batchnorm.py?line=173'>174</a>\u001b[0m     \u001b[39mself\u001b[39;49m\u001b[39m.\u001b[39;49mrunning_var \u001b[39mif\u001b[39;49;00m \u001b[39mnot\u001b[39;49;00m \u001b[39mself\u001b[39;49m\u001b[39m.\u001b[39;49mtraining \u001b[39mor\u001b[39;49;00m \u001b[39mself\u001b[39;49m\u001b[39m.\u001b[39;49mtrack_running_stats \u001b[39melse\u001b[39;49;00m \u001b[39mNone\u001b[39;49;00m,\n\u001b[1;32m    <a href='file:///home/wibbn/.pyenv/versions/3.8.12/envs/cv/lib/python3.8/site-packages/torch/nn/modules/batchnorm.py?line=174'>175</a>\u001b[0m     \u001b[39mself\u001b[39;49m\u001b[39m.\u001b[39;49mweight,\n\u001b[1;32m    <a href='file:///home/wibbn/.pyenv/versions/3.8.12/envs/cv/lib/python3.8/site-packages/torch/nn/modules/batchnorm.py?line=175'>176</a>\u001b[0m     \u001b[39mself\u001b[39;49m\u001b[39m.\u001b[39;49mbias,\n\u001b[1;32m    <a href='file:///home/wibbn/.pyenv/versions/3.8.12/envs/cv/lib/python3.8/site-packages/torch/nn/modules/batchnorm.py?line=176'>177</a>\u001b[0m     bn_training,\n\u001b[1;32m    <a href='file:///home/wibbn/.pyenv/versions/3.8.12/envs/cv/lib/python3.8/site-packages/torch/nn/modules/batchnorm.py?line=177'>178</a>\u001b[0m     exponential_average_factor,\n\u001b[1;32m    <a href='file:///home/wibbn/.pyenv/versions/3.8.12/envs/cv/lib/python3.8/site-packages/torch/nn/modules/batchnorm.py?line=178'>179</a>\u001b[0m     \u001b[39mself\u001b[39;49m\u001b[39m.\u001b[39;49meps,\n\u001b[1;32m    <a href='file:///home/wibbn/.pyenv/versions/3.8.12/envs/cv/lib/python3.8/site-packages/torch/nn/modules/batchnorm.py?line=179'>180</a>\u001b[0m )\n",
      "File \u001b[0;32m~/.pyenv/versions/3.8.12/envs/cv/lib/python3.8/site-packages/torch/nn/functional.py:2421\u001b[0m, in \u001b[0;36mbatch_norm\u001b[0;34m(input, running_mean, running_var, weight, bias, training, momentum, eps)\u001b[0m\n\u001b[1;32m   <a href='file:///home/wibbn/.pyenv/versions/3.8.12/envs/cv/lib/python3.8/site-packages/torch/nn/functional.py?line=2417'>2418</a>\u001b[0m \u001b[39mif\u001b[39;00m training:\n\u001b[1;32m   <a href='file:///home/wibbn/.pyenv/versions/3.8.12/envs/cv/lib/python3.8/site-packages/torch/nn/functional.py?line=2418'>2419</a>\u001b[0m     _verify_batch_size(\u001b[39minput\u001b[39m\u001b[39m.\u001b[39msize())\n\u001b[0;32m-> <a href='file:///home/wibbn/.pyenv/versions/3.8.12/envs/cv/lib/python3.8/site-packages/torch/nn/functional.py?line=2420'>2421</a>\u001b[0m \u001b[39mreturn\u001b[39;00m torch\u001b[39m.\u001b[39;49mbatch_norm(\n\u001b[1;32m   <a href='file:///home/wibbn/.pyenv/versions/3.8.12/envs/cv/lib/python3.8/site-packages/torch/nn/functional.py?line=2421'>2422</a>\u001b[0m     \u001b[39minput\u001b[39;49m, weight, bias, running_mean, running_var, training, momentum, eps, torch\u001b[39m.\u001b[39;49mbackends\u001b[39m.\u001b[39;49mcudnn\u001b[39m.\u001b[39;49menabled\n\u001b[1;32m   <a href='file:///home/wibbn/.pyenv/versions/3.8.12/envs/cv/lib/python3.8/site-packages/torch/nn/functional.py?line=2422'>2423</a>\u001b[0m )\n",
      "\u001b[0;31mRuntimeError\u001b[0m: CUDA out of memory. Tried to allocate 784.00 MiB (GPU 0; 7.80 GiB total capacity; 5.36 GiB already allocated; 178.12 MiB free; 5.75 GiB reserved in total by PyTorch) If reserved memory is >> allocated memory try setting max_split_size_mb to avoid fragmentation.  See documentation for Memory Management and PYTORCH_CUDA_ALLOC_CONF"
     ]
    }
   ],
   "source": [
    "# Отключаем расчет вычислительного графа для экономии времени и памяти: нам не нужно считать градиенты при тестировании модели\n",
    "with torch.no_grad():\n",
    "    # Оцениваем качество модели\n",
    "    train_data_loader = DataLoader(train_data, batch_size=256)\n",
    "    train_features, train_targets = next(iter(train_data_loader))\n",
    "\n",
    "    train_features = train_features.to(device)\n",
    "    train_model_predictions = torch.argmax(model(train_features), dim=1)\n",
    "    print('Точность (accuracy) на обучающей выборке:', accuracy_score(train_targets, train_model_predictions.cpu()))\n",
    "\n",
    "    test_data_loader = DataLoader(test_data, batch_size=256)\n",
    "    test_features, test_targets = next(iter(test_data_loader))\n",
    "\n",
    "    test_features = test_features.to(device)\n",
    "    test_model_predictions = torch.argmax(model(test_features), dim=1)\n",
    "    print('Точность (accuracy) на тестовой выборке:', accuracy_score(test_targets, test_model_predictions.cpu()))"
   ]
  },
  {
   "cell_type": "code",
   "execution_count": null,
   "metadata": {},
   "outputs": [],
   "source": []
  }
 ],
 "metadata": {
  "interpreter": {
   "hash": "a7d35ccc9069beebc945d05423ac0c6deb5a2cd97d7ddcaf21de10627e6326eb"
  },
  "kernelspec": {
   "display_name": "Python 3.9.9 64-bit ('ml')",
   "language": "python",
   "name": "python3"
  },
  "language_info": {
   "codemirror_mode": {
    "name": "ipython",
    "version": 3
   },
   "file_extension": ".py",
   "mimetype": "text/x-python",
   "name": "python",
   "nbconvert_exporter": "python",
   "pygments_lexer": "ipython3",
   "version": "3.8.12"
  },
  "orig_nbformat": 4
 },
 "nbformat": 4,
 "nbformat_minor": 2
}
