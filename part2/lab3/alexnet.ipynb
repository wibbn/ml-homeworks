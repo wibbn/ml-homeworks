{
 "cells": [
  {
   "cell_type": "code",
   "execution_count": 1,
   "metadata": {},
   "outputs": [],
   "source": [
    "# Импортируем основные модули pytorch\n",
    "import torch\n",
    "import torch.nn as nn\n",
    "from torch.utils.data import DataLoader\n",
    "\n",
    "# Импортируем модули, связанные с компьютерным зрением\n",
    "from torchvision import datasets\n",
    "import torchvision.transforms as T  # пакет transforms будет доступен под именем T\n",
    "from torchvision.models import alexnet  # импортируем модель AlexNet\n",
    "\n",
    "# Импортируем вспомогательные модули\n",
    "from sklearn.metrics import accuracy_score\n",
    "import matplotlib.pyplot as plt\n",
    "\n",
    "\n",
    "# В данной лабораторной работе предлагается дообучить предобученные модели на уже известном нам наборе CIFAR10.\n",
    "# В этой части предлагается поработать с архитектурой AlexNet.\n",
    "# Необходимо:\n",
    "# 1. Подготовить изображения (см. ниже);\n",
    "# 2. \"Заморозить\" веса предобученной модели;\n",
    "# 3. Заменить последний слой для соответствия размерности выхода 10-яти классам;\n",
    "# 4. Дообучить модель."
   ]
  },
  {
   "cell_type": "code",
   "execution_count": 13,
   "metadata": {},
   "outputs": [
    {
     "name": "stdout",
     "output_type": "stream",
     "text": [
      "Files already downloaded and verified\n",
      "Files already downloaded and verified\n"
     ]
    }
   ],
   "source": [
    "# Последовательность преобразований исходных изображений. Нужно заполнить.\n",
    "# Смысл этих преобразований в том, чтобы привести входные изображения из набора CIFAR10 к тому виду, который был у\n",
    "# изображений из набора, на котором была предобучена сеть. А именно:\n",
    "# 1. Картинки 3-ех канальные с размером 224 х 224 пикселей.\n",
    "# 2. Картики должны быть преобразованы в тензор и иметь цветовые компоненты на отрезке [0; 1].\n",
    "# 3. Среднее по цветовым каналам должно быть [0.485, 0.456, 0.406], а среднеквадратическое отклонение [0.229, 0.224, 0.225].\n",
    "# Посмотрите документацию по классам Compose, Resize, CenterCrop, ToTensor, Normalize из пакета torchvision.transforms.\n",
    "transforms = T.Compose([\n",
    "    # ВАШ КОД ЗДЕСЬ\n",
    "    T.Resize(256),\n",
    "    T.CenterCrop(224),\n",
    "    T.ToTensor(),\n",
    "    T.Normalize([0.485, 0.456, 0.406],[0.229, 0.224, 0.225])\n",
    "    # ===============\n",
    "])\n",
    "\n",
    "# Задаем количество эпох (проходов по всей обучающей выборке) и размер пакета, можно варьировать\n",
    "EPOCHS = 10\n",
    "BATCH_SIZE = 256\n",
    "\n",
    "# Загружаем данные из набора CIFAR10\n",
    "train_data = datasets.CIFAR10(root='./data/train', train=True, download=True, transform=transforms)\n",
    "test_data = datasets.CIFAR10(root='./data/test', train=False, download=True, transform=transforms)\n",
    "\n",
    "# DataLoader позволяет разбить выборку на пакеты заданного размера.\n",
    "# Параметр shuffle отвечает за перемешивание данных в пакете\n",
    "train_loader = DataLoader(train_data, batch_size=BATCH_SIZE, shuffle=True)"
   ]
  },
  {
   "cell_type": "code",
   "execution_count": 3,
   "metadata": {},
   "outputs": [
    {
     "name": "stderr",
     "output_type": "stream",
     "text": [
      "Downloading: \"https://download.pytorch.org/models/alexnet-owt-7be5be79.pth\" to /home/wibbn/.cache/torch/hub/checkpoints/alexnet-owt-7be5be79.pth\n",
      "100%|██████████| 233M/233M [00:42<00:00, 5.73MB/s] \n"
     ]
    }
   ],
   "source": [
    "# Если графический ускоритель поддерживает обучение на нем, будем использовать его,\n",
    "# иначе обучать на процессоре.\n",
    "device = 'cuda' if torch.cuda.is_available() else 'cpu'\n",
    "\n",
    "model = alexnet(pretrained=True)  # загружаем модель с предобученными весами\n",
    "# Здесь необходимо выполнить 2-ой и 3-ий пункты.\n",
    "# ВАШ КОД ЗДЕСЬ\n",
    "for param in model.parameters():\n",
    "    param.requires_grad = False\n",
    "model.classifier[6] = nn.Linear(in_features=4096, out_features=10)\n",
    "# ===============\n",
    "\n",
    "# Готовимся к обучению\n",
    "model = model.to(device)  # переносим модель на доступное устройство\n",
    "optimizer = torch.optim.AdamW(filter(lambda p: p.requires_grad, model.parameters()))  # оптимизатор, нужно выбрать и настроить\n",
    "loss_function = nn.CrossEntropyLoss()  # функция потерь, нужно выбрать\n",
    "loss_history = list()  # список для хранения истории изменения функции стоимости"
   ]
  },
  {
   "cell_type": "code",
   "execution_count": 4,
   "metadata": {},
   "outputs": [],
   "source": [
    "from tqdm import tqdm"
   ]
  },
  {
   "cell_type": "code",
   "execution_count": 9,
   "metadata": {},
   "outputs": [
    {
     "name": "stderr",
     "output_type": "stream",
     "text": [
      "196it [00:53,  3.64it/s]\n",
      "0it [00:00, ?it/s]"
     ]
    },
    {
     "name": "stdout",
     "output_type": "stream",
     "text": [
      "Эпоха 1 завершилась с функцией стоимости на последнем пакете = 0.680310845375061\n"
     ]
    },
    {
     "name": "stderr",
     "output_type": "stream",
     "text": [
      "196it [01:00,  3.25it/s]\n",
      "0it [00:00, ?it/s]"
     ]
    },
    {
     "name": "stdout",
     "output_type": "stream",
     "text": [
      "Эпоха 2 завершилась с функцией стоимости на последнем пакете = 0.4661227762699127\n"
     ]
    },
    {
     "name": "stderr",
     "output_type": "stream",
     "text": [
      "196it [00:52,  3.70it/s]\n",
      "0it [00:00, ?it/s]"
     ]
    },
    {
     "name": "stdout",
     "output_type": "stream",
     "text": [
      "Эпоха 3 завершилась с функцией стоимости на последнем пакете = 0.9045159220695496\n"
     ]
    },
    {
     "name": "stderr",
     "output_type": "stream",
     "text": [
      "196it [00:51,  3.77it/s]\n",
      "0it [00:00, ?it/s]"
     ]
    },
    {
     "name": "stdout",
     "output_type": "stream",
     "text": [
      "Эпоха 4 завершилась с функцией стоимости на последнем пакете = 0.5972393155097961\n"
     ]
    },
    {
     "name": "stderr",
     "output_type": "stream",
     "text": [
      "196it [00:51,  3.82it/s]\n",
      "0it [00:00, ?it/s]"
     ]
    },
    {
     "name": "stdout",
     "output_type": "stream",
     "text": [
      "Эпоха 5 завершилась с функцией стоимости на последнем пакете = 0.7585945725440979\n"
     ]
    },
    {
     "name": "stderr",
     "output_type": "stream",
     "text": [
      "196it [00:51,  3.84it/s]\n",
      "0it [00:00, ?it/s]"
     ]
    },
    {
     "name": "stdout",
     "output_type": "stream",
     "text": [
      "Эпоха 6 завершилась с функцией стоимости на последнем пакете = 0.5317907333374023\n"
     ]
    },
    {
     "name": "stderr",
     "output_type": "stream",
     "text": [
      "196it [00:51,  3.83it/s]\n",
      "0it [00:00, ?it/s]"
     ]
    },
    {
     "name": "stdout",
     "output_type": "stream",
     "text": [
      "Эпоха 7 завершилась с функцией стоимости на последнем пакете = 0.6804598569869995\n"
     ]
    },
    {
     "name": "stderr",
     "output_type": "stream",
     "text": [
      "196it [00:51,  3.79it/s]\n",
      "0it [00:00, ?it/s]"
     ]
    },
    {
     "name": "stdout",
     "output_type": "stream",
     "text": [
      "Эпоха 8 завершилась с функцией стоимости на последнем пакете = 0.679407000541687\n"
     ]
    },
    {
     "name": "stderr",
     "output_type": "stream",
     "text": [
      "196it [00:51,  3.81it/s]\n",
      "0it [00:00, ?it/s]"
     ]
    },
    {
     "name": "stdout",
     "output_type": "stream",
     "text": [
      "Эпоха 9 завершилась с функцией стоимости на последнем пакете = 0.6350275278091431\n"
     ]
    },
    {
     "name": "stderr",
     "output_type": "stream",
     "text": [
      "196it [00:51,  3.81it/s]"
     ]
    },
    {
     "name": "stdout",
     "output_type": "stream",
     "text": [
      "Эпоха 10 завершилась с функцией стоимости на последнем пакете = 0.5691652297973633\n"
     ]
    },
    {
     "name": "stderr",
     "output_type": "stream",
     "text": [
      "\n"
     ]
    },
    {
     "data": {
      "image/png": "[encoded data removed]",
      "text/plain": [
       "<Figure size 432x288 with 1 Axes>"
      ]
     },
     "metadata": {},
     "output_type": "display_data"
    }
   ],
   "source": [
    "# Начинаем обучение\n",
    "for epoch in range(EPOCHS):\n",
    "    for i, (batch, labels) in tqdm(enumerate(train_loader)):  # разбиваем выборку на пакеты\n",
    "        # Нужно реализовать один шаг градиентного спуска\n",
    "        # loss = torch.tensor(0, dtype=torch.float32)  # значение функции стоимости на пакете, нужно рассчитать\n",
    "        # ВАШ КОД ЗДЕСЬ\n",
    "        model.zero_grad()\n",
    "        outputs = model(batch.to(device))\n",
    "        loss = loss_function(outputs, labels.to(device))\n",
    "        loss.backward()\n",
    "        optimizer.step()\n",
    "        # ===============\n",
    "        loss_history.append(loss.log().item())  # добавляется логарифм стоимости для большей наглядности\n",
    "    print(f'Эпоха {epoch + 1} завершилась с функцией стоимости на последнем пакете = {loss.item()}')\n",
    "\n",
    "\n",
    "# Выводим график функции стоимости\n",
    "plt.title('Зависимость функции стоимости от номера шага градиентного спуска')\n",
    "plt.xlabel('Номер шага')\n",
    "plt.ylabel('Функция стоимости')\n",
    "plt.plot(loss_history)\n",
    "plt.show()"
   ]
  },
  {
   "cell_type": "code",
   "execution_count": 12,
   "metadata": {},
   "outputs": [
    {
     "name": "stdout",
     "output_type": "stream",
     "text": [
      "Точность (accuracy) на обучающей выборке: 0.8056640625\n",
      "Точность (accuracy) на тестовой выборке: 0.7685546875\n"
     ]
    }
   ],
   "source": [
    "# Отключаем расчет вычислительного графа для экономии времени и памяти: нам не нужно считать градиенты при тестировании модели\n",
    "with torch.no_grad():\n",
    "    # Оцениваем качество модели\n",
    "    train_data_loader = DataLoader(train_data, batch_size=1024)\n",
    "    train_features, train_targets = next(iter(train_data_loader))\n",
    "\n",
    "    train_features = train_features.to(device)\n",
    "    train_model_predictions = torch.argmax(model(train_features), dim=1)\n",
    "    print('Точность (accuracy) на обучающей выборке:', accuracy_score(train_targets, train_model_predictions.cpu()))\n",
    "\n",
    "    test_data_loader = DataLoader(test_data, batch_size=1024)\n",
    "    test_features, test_targets = next(iter(test_data_loader))\n",
    "\n",
    "    test_features = test_features.to(device)\n",
    "    test_model_predictions = torch.argmax(model(test_features), dim=1)\n",
    "    print('Точность (accuracy) на тестовой выборке:', accuracy_score(test_targets, test_model_predictions.cpu()))"
   ]
  },
  {
   "cell_type": "code",
   "execution_count": null,
   "metadata": {},
   "outputs": [],
   "source": []
  }
 ],
 "metadata": {
  "interpreter": {
   "hash": "a7d35ccc9069beebc945d05423ac0c6deb5a2cd97d7ddcaf21de10627e6326eb"
  },
  "kernelspec": {
   "display_name": "Python 3.9.9 64-bit ('ml')",
   "language": "python",
   "name": "python3"
  },
  "language_info": {
   "codemirror_mode": {
    "name": "ipython",
    "version": 3
   },
   "file_extension": ".py",
   "mimetype": "text/x-python",
   "name": "python",
   "nbconvert_exporter": "python",
   "pygments_lexer": "ipython3",
   "version": "3.8.12"
  },
  "orig_nbformat": 4
 },
 "nbformat": 4,
 "nbformat_minor": 2
}
