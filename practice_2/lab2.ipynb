{
 "cells": [
  {
   "cell_type": "code",
   "execution_count": 1,
   "id": "15811de8-18f2-4472-9381-ab3aa09fad87",
   "metadata": {},
   "outputs": [],
   "source": [
    "import numpy as np\n",
    "from scipy.optimize import minimize\n",
    "from matplotlib import pyplot as plt"
   ]
  },
  {
   "cell_type": "code",
   "execution_count": 2,
   "id": "0bc53c38-f412-4b58-8496-c366f74eea0c",
   "metadata": {},
   "outputs": [],
   "source": [
    "# В этой лабораторной работе вам предстоит обучить модель логистической регрессии.\n",
    "# Представьте, что вы сотрудник приемной комиссии и хотите оценить шансы студента на прохождение на бюджет.\n",
    "# У вас есть исторические данные о сдачах студентами двух входных экзаменов по 100-балльной шкале.\n",
    "# Кроме того, данные размечены. То есть студенты, прошедшие отбор помечены меткой 1, остальные 0.\n",
    "\n",
    "# Ваша задача - заполнить код в функциях:\n",
    "# logistic - вычисляет логистическую функцию от аргумента,\n",
    "# compute_cost - вычисляет функцию стоимости,\n",
    "# compute_cost_grad - вычисляет градиент функции стоимости.\n",
    "\n",
    "# В данной задаче будет использоваться градиентный метод оптимизации, определенный в библиотеке scipy, так что\n",
    "# не нужно реализовывать градиентный спуск.\n",
    "\n",
    "# По ходу работы смотрите в консоль. Там будут выводиться результаты написанных вами функций и ожидаемые результаты.\n",
    "# Так вы сможете проверить себя.\n",
    "\n",
    "# Комментарии к графикам:\n",
    "# Первый график - исходные данные\n",
    "# Второй - исходные данные с результатом работы модели - границей решений.\n",
    "# Черным цветом обозначено поле, попадание точки в которое означает ее\n",
    "# принадлежность к 1 классу (студент проходит на бюджет), белым - принадлежность к 0 классу (не проходит на бюджет)."
   ]
  },
  {
   "cell_type": "code",
   "execution_count": 3,
   "id": "13c4e85f-33d8-44b3-a7ef-797922f3e36b",
   "metadata": {},
   "outputs": [],
   "source": [
    "def logistic(z):\n",
    "\n",
    "    # Функция принимает аргумент z - скаляр, вектор или матрицу в виде объекта numpy.array()\n",
    "    # Должна возвращать скяляр, вектор или матрицу (в зависимости от размерности z)\n",
    "    # результатов вычисления логистической функции от элементов z\n",
    "\n",
    "    # result = np.zeros(z.shape)  # результат, его нужно посчитать\n",
    "\n",
    "    # ВАШ КОД ЗДЕСЬ\n",
    "\n",
    "    return 1 / (1 + np.exp(-z))\n",
    "\n",
    "    # =============\n",
    "\n",
    "    # return result"
   ]
  },
  {
   "cell_type": "code",
   "execution_count": 4,
   "id": "e17932b4-799d-492c-993c-0393ca9d8c94",
   "metadata": {},
   "outputs": [],
   "source": [
    "def compute_cost(X, y, theta):\n",
    "\n",
    "    # Функция принимает матрицу данный X, вектор целевых переменных y и вектор параметров theta.\n",
    "    # Должна возвратить число - результат вычисления функции стоимости в точке theta.\n",
    "\n",
    "    m, n = X.shape  # m - количество примеров в выборке, n - количество признаков у каждого примера\n",
    "    cost = 0  # значение функции стоимости при заданных параметрах, его нужно посчитать\n",
    "\n",
    "    # ВАШ КОД ЗДЕСЬ\n",
    "\n",
    "    return np.mean(-(y * np.log(logistic(X @ theta)) + (1 - y) * np.log(1 - logistic(X @ theta))))\n",
    "\n",
    "    # =============\n",
    "\n",
    "    return cost"
   ]
  },
  {
   "cell_type": "code",
   "execution_count": 5,
   "id": "9e87f852-2d4b-46dc-ad01-01570f874378",
   "metadata": {},
   "outputs": [],
   "source": [
    "def compute_cost_grad(X, y, theta):\n",
    "    # Функция принимает матрицу данный X, вектор целевых переменных y и вектор параметров theta.\n",
    "    # Должна возвратить вектор координат градиента функции стоимости в точке theta.\n",
    "    # Вектор можно заполнять в виде списка python. При возврате он преобразуется в массив numpy.\n",
    "\n",
    "    m, n = X.shape  # m - количество примеров в выборке, n - количество признаков у каждого примера\n",
    "    grad = [0] * n  # вектор градиента функции стоимости по theta, его нужно заполнить\n",
    "\n",
    "    # ВАШ КОД ЗДЕСЬ\n",
    "\n",
    "    grad = 1 / m * ((logistic(X @ theta) - y).T @ X)\n",
    "\n",
    "    # =============\n",
    "\n",
    "    return np.array(grad)"
   ]
  },
  {
   "cell_type": "code",
   "execution_count": 6,
   "id": "fbc8e2a4-600f-499e-81f0-f737cb3309be",
   "metadata": {},
   "outputs": [],
   "source": [
    "def load_data(data_file_path):\n",
    "    with open(data_file_path) as input_file:\n",
    "        X = list()\n",
    "        y = list()\n",
    "        for line in input_file:\n",
    "            *row, label = map(float, line.split(','))\n",
    "            X.append([1] + row)\n",
    "            y.append(label)\n",
    "        return np.array(X, float), np.array(y, float)"
   ]
  },
  {
   "cell_type": "code",
   "execution_count": 9,
   "id": "4f85f4a1-3b02-405d-ac0c-002f36210e08",
   "metadata": {},
   "outputs": [
    {
     "name": "stdout",
     "output_type": "stream",
     "text": [
      "logistic(0) = 0.5 (должно быть 0.5)\n",
      "logistic(-10) = 4.5397868702434395e-05 (должно быть ~0)\n",
      "logistic(10) = 0.9999546021312976 (должно быть ~1)\n"
     ]
    },
    {
     "data": {
      "image/png": "[encoded data removed]",
      "text/plain": [
       "<Figure size 432x288 with 1 Axes>"
      ]
     },
     "metadata": {
      "needs_background": "light"
     },
     "output_type": "display_data"
    },
    {
     "name": "stdout",
     "output_type": "stream",
     "text": [
      "Функция стоимости при начальном theta = 0.6931471805599453 (должно быть ~0.693)\n",
      "Минимизация функции стоимости прошла успешно.\n",
      "Функция стоимости при оптимальном theta = 0.2034978307730544 (должно быть ~0.203)\n"
     ]
    },
    {
     "name": "stderr",
     "output_type": "stream",
     "text": [
      "/tmp/ipykernel_638/947866589.py:11: RuntimeWarning: divide by zero encountered in log\n",
      "  return np.mean(-(y * np.log(logistic(X @ theta)) + (1 - y) * np.log(1 - logistic(X @ theta))))\n",
      "/tmp/ipykernel_638/947866589.py:11: RuntimeWarning: invalid value encountered in multiply\n",
      "  return np.mean(-(y * np.log(logistic(X @ theta)) + (1 - y) * np.log(1 - logistic(X @ theta))))\n"
     ]
    },
    {
     "data": {
      "image/png": "[encoded data removed]",
      "text/plain": [
       "<Figure size 432x288 with 2 Axes>"
      ]
     },
     "metadata": {
      "needs_background": "light"
     },
     "output_type": "display_data"
    }
   ],
   "source": [
    "X, y = load_data('lab2data1.txt')\n",
    "\n",
    "print(f'logistic(0) = {logistic(np.array(0))} (должно быть 0.5)\\n'\n",
    "      f'logistic(-10) = {logistic(np.array(-10))} (должно быть ~0)\\n'\n",
    "      f'logistic(10) = {logistic(np.array(10))} (должно быть ~1)')\n",
    "\n",
    "plt.title('Исходные данные')\n",
    "plt.scatter(X[y == 0][:, 1], X[y == 0][:, 2], c='r', marker='o')\n",
    "plt.scatter(X[y == 1][:, 1], X[y == 1][:, 2], c='g', marker='x')\n",
    "plt.show()\n",
    "\n",
    "init_theta = np.zeros((X.shape[1], 1))\n",
    "cost0 = compute_cost(X, y, init_theta)\n",
    "print(f'Функция стоимости при начальном theta = {cost0} (должно быть ~0.693)')\n",
    "\n",
    "opt_theta_obj = minimize(lambda th: compute_cost(X, y, th), init_theta,\n",
    "                         method='CG',\n",
    "                         jac=lambda th: compute_cost_grad(X, y, th),\n",
    "                         options={'gtol': 1e-5, 'maxiter': 200, 'disp': False})\n",
    "\n",
    "print('Минимизация функции стоимости ' + ('прошла успешно.' if opt_theta_obj.success else 'не удалась.'))\n",
    "opt_theta = opt_theta_obj.x\n",
    "\n",
    "opt_cost = compute_cost(X, y, opt_theta)\n",
    "print(f'Функция стоимости при оптимальном theta = {opt_cost} (должно быть ~0.203)')\n",
    "\n",
    "hm = np.zeros((100, 100))\n",
    "for i in range(100):\n",
    "    for j in range(100):\n",
    "        hm[i, j] = round(logistic(opt_theta @ np.array([1, j, i])))\n",
    "c = plt.pcolor(range(101), range(101), hm, cmap='Greys')\n",
    "plt.colorbar(c)\n",
    "\n",
    "plt.title('Построенная граница решений')\n",
    "plt.scatter(X[y == 0][:, 1], X[y == 0][:, 2], c='r', marker='o')\n",
    "plt.scatter(X[y == 1][:, 1], X[y == 1][:, 2], c='g', marker='x')\n",
    "plt.show()"
   ]
  },
  {
   "cell_type": "code",
   "execution_count": null,
   "id": "eef05d78-fcd7-4f84-ad8b-139984f9146d",
   "metadata": {},
   "outputs": [],
   "source": []
  }
 ],
 "metadata": {
  "kernelspec": {
   "display_name": "Python 3 (ipykernel)",
   "language": "python",
   "name": "python3"
  },
  "language_info": {
   "codemirror_mode": {
    "name": "ipython",
    "version": 3
   },
   "file_extension": ".py",
   "mimetype": "text/x-python",
   "name": "python",
   "nbconvert_exporter": "python",
   "pygments_lexer": "ipython3",
   "version": "3.9.7"
  }
 },
 "nbformat": 4,
 "nbformat_minor": 5
}
