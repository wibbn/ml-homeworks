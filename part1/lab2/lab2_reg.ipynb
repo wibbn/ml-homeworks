{
 "cells": [
  {
   "cell_type": "code",
   "execution_count": 1,
   "id": "8fc00d27-fbdf-4b83-b1a3-f705ac5a1846",
   "metadata": {},
   "outputs": [],
   "source": [
    "import numpy as np\n",
    "from scipy.optimize import minimize\n",
    "from matplotlib import pyplot as plt"
   ]
  },
  {
   "cell_type": "code",
   "execution_count": 2,
   "id": "6df86731-35dd-4fea-8c03-04437c498a3c",
   "metadata": {},
   "outputs": [],
   "source": [
    "# Теперь вы сотрудник лаборатории, производящей процессоры.\n",
    "# У вас есть данные о прохождении процессором 2-ух тестов, которые определяют его исправность.\n",
    "# Кроме того, данные размечены. То есть исправные процессоры помечены меткой 1, остальные 0.\n",
    "\n",
    "# Ваша задача - заполнить код в функциях:\n",
    "# logistic - вычисляет логистическую функцию от аргумента,\n",
    "# compute_cost_reg - вычисляет функцию стоимости c регуляризацией,\n",
    "# compute_cost_grad_reg - вычисляет градиент функции стоимости с регуляризацией.\n",
    "\n",
    "# В данной задаче будет использоваться градиентный метод оптимизации, определенный в библиотеке scipy, так что\n",
    "# не нужно реализовывать градиентный спуск.\n",
    "\n",
    "# По ходу работы смотрите в консоль. Там будут выводиться результаты написанных вами функций и ожидаемые результаты.\n",
    "# Так вы сможете проверить себя.\n",
    "\n",
    "# Комментарии к графикам:\n",
    "# Первый график - исходные данные\n",
    "# Второй - исходные данные с результатом работы модели - границей решений.\n",
    "# Черным цветом обозначено поле, попадание точки в которое означает ее\n",
    "# принадлежность к 1 классу (процессор исправен), белым - принадлежность к 0 классу (не исправен)."
   ]
  },
  {
   "cell_type": "code",
   "execution_count": 3,
   "id": "17b17a73-fc25-43bd-9af5-31ef4bdcb385",
   "metadata": {},
   "outputs": [],
   "source": [
    "def map_features(X):\n",
    "\n",
    "    # Эта функция добавляет все комбинации признаков 2, 3, ..., 6 степеней в матрицу данных.\n",
    "    # Это нужно для того, чтобы мы могли построить нелинейную границу решений.\n",
    "    # При таком большом количестве признаков может возникнуть проблема переобучения\n",
    "    # С ней мы и поборемся с помощью регуляризации.\n",
    "\n",
    "    result = list()\n",
    "    for k in range(X.shape[0] if len(X.shape) == 2 else 1):\n",
    "        vec = list(X[k, :] if len(X.shape) == 2 else X)\n",
    "        for i in range(2, 7):\n",
    "            for j in range(i + 1):\n",
    "                vec.append(vec[1] ** j * vec[2] ** (i - j))\n",
    "        result.append(vec)\n",
    "    return np.array(result)"
   ]
  },
  {
   "cell_type": "code",
   "execution_count": 4,
   "id": "357e4397-3aae-4ed0-b37c-12cdb98e1add",
   "metadata": {},
   "outputs": [],
   "source": [
    "def logistic(z):\n",
    "\n",
    "    # Функция принимает аргумент z - скаляр, вектор или матрицу в виде объекта numpy.array()\n",
    "    # Должна возвращать скяляр, вектор или матрицу (в зависимости от размерности z)\n",
    "    # результатов вычисления логистической функции от элементов z\n",
    "\n",
    "    # result = np.zeros(z.shape)  # результат, его нужно посчитать\n",
    "\n",
    "    # ВАШ КОД ЗДЕСЬ\n",
    "\n",
    "    return 1 / (1 + np.exp(-z))\n",
    "\n",
    "    # =============\n",
    "\n",
    "    # return result"
   ]
  },
  {
   "cell_type": "code",
   "execution_count": 5,
   "id": "1dbaa768-da7b-4a6c-ae64-4f1191c08912",
   "metadata": {},
   "outputs": [],
   "source": [
    "def compute_cost_reg(X, y, theta, lamb):\n",
    "\n",
    "    # Функция принимает матрицу данный X, вектор целевых переменных y и вектор параметров theta.\n",
    "    # Кроме того, функция принимает параметр регуляризации lamb.\n",
    "    # Должна возвратить число - результат вычисления функции стоимости в точке theta.\n",
    "\n",
    "    m, n = X.shape  # m - количество примеров в выборке, n - количество признаков у каждого примера\n",
    "    # cost = 0  # значение функции стоимости при заданных параметрах, его нужно посчитать\n",
    "\n",
    "    # ВАШ КОД ЗДЕСЬ\n",
    "\n",
    "    return np.mean(-(y * np.log(logistic(X @ theta)) + (1 - y) * np.log(1 - logistic(X @ theta))) + lamb / m * (theta ** 2).sum())\n",
    "\n",
    "    # =============\n",
    "\n",
    "    # return cost"
   ]
  },
  {
   "cell_type": "code",
   "execution_count": 6,
   "id": "020740b8-a437-4319-a821-5a3c484bbfd3",
   "metadata": {},
   "outputs": [],
   "source": [
    "def compute_cost_grad_reg(X, y, theta, lamb):\n",
    "    # Функция принимает матрицу данный X, вектор целевых переменных y и вектор параметров theta.\n",
    "    # Кроме того, функция принимает параметр регуляризации lamb.\n",
    "    # Должна возвратить вектор координат градиента функции стоимости в точке theta.\n",
    "    # Вектор можно заполнять в виде списка python. При возврате он преобразуется в массив numpy.\n",
    "\n",
    "    m, n = X.shape  # m - количество примеров в выборке, n - количество признаков у каждого примера\n",
    "    grad = [0] * n  # вектор градиента функции стоимости по theta, его нужно заполнить\n",
    "\n",
    "    # ВАШ КОД ЗДЕСЬ\n",
    "\n",
    "    grad = (1 / m) * ((logistic(X @ theta) - y).T @ X) + 2 * lamb / m * theta\n",
    "\n",
    "    # =============\n",
    "\n",
    "    return np.array(grad)"
   ]
  },
  {
   "cell_type": "code",
   "execution_count": 7,
   "id": "c5e07d13-df0a-4326-93cf-82a217423ee1",
   "metadata": {},
   "outputs": [],
   "source": [
    "def load_data(data_file_path):\n",
    "    with open(data_file_path) as input_file:\n",
    "        X = list()\n",
    "        y = list()\n",
    "        for line in input_file:\n",
    "            *row, label = map(float, line.split(','))\n",
    "            X.append([1] + row)\n",
    "            y.append(label)\n",
    "        return np.array(X, float), np.array(y, float)"
   ]
  },
  {
   "cell_type": "code",
   "execution_count": 8,
   "id": "ac00c54a-14ee-4141-a6c7-ae43ddd777b0",
   "metadata": {},
   "outputs": [
    {
     "name": "stdout",
     "output_type": "stream",
     "text": [
      "logistic(0) = 0.5 (должно быть 0.5)\n",
      "logistic(-10) = 4.5397868702434395e-05 (должно быть ~0)\n",
      "logistic(10) = 0.9999546021312976 (должно быть ~1)\n"
     ]
    },
    {
     "data": {
      "image/png": "[encoded data removed]",
      "text/plain": [
       "<Figure size 432x288 with 1 Axes>"
      ]
     },
     "metadata": {
      "needs_background": "light"
     },
     "output_type": "display_data"
    },
    {
     "name": "stdout",
     "output_type": "stream",
     "text": [
      "Функция стоимости при начальном theta = 0.6931471805599453 (должно быть ~0.693)\n",
      "Минимизация функции стоимости прошла успешно.\n",
      "Функция стоимости при оптимальном theta = 0.5792894187049256 (должно быть ~0.529)\n"
     ]
    },
    {
     "name": "stderr",
     "output_type": "stream",
     "text": [
      "/tmp/ipykernel_641/869111823.py:34: MatplotlibDeprecationWarning: shading='flat' when X and Y have the same dimensions as C is deprecated since 3.3.  Either specify the corners of the quadrilaterals with X and Y, or pass shading='auto', 'nearest' or 'gouraud', or set rcParams['pcolor.shading'].  This will become an error two minor releases later.\n",
      "  c = plt.pcolor(np.arange(-2, 2, 0.05), np.arange(-2, 2, 0.05), hm, cmap='Greys')\n"
     ]
    },
    {
     "data": {
      "image/png": "[encoded data removed]",
      "text/plain": [
       "<Figure size 432x288 with 2 Axes>"
      ]
     },
     "metadata": {
      "needs_background": "light"
     },
     "output_type": "display_data"
    }
   ],
   "source": [
    "X, y = load_data('lab2data2.txt')\n",
    "\n",
    "X = map_features(X)\n",
    "\n",
    "print(f'logistic(0) = {logistic(np.array(0))} (должно быть 0.5)\\n'\n",
    "      f'logistic(-10) = {logistic(np.array(-10))} (должно быть ~0)\\n'\n",
    "      f'logistic(10) = {logistic(np.array(10))} (должно быть ~1)')\n",
    "\n",
    "plt.title('Исходные данные')\n",
    "plt.scatter(X[y == 0][:, 1], X[y == 0][:, 2], c='r', marker='o')\n",
    "plt.scatter(X[y == 1][:, 1], X[y == 1][:, 2], c='g', marker='x')\n",
    "plt.show()\n",
    "\n",
    "lamb = 1\n",
    "init_theta = np.zeros((X.shape[1], 1))\n",
    "cost0 = compute_cost_reg(X, y, init_theta, lamb)\n",
    "print(f'Функция стоимости при начальном theta = {cost0} (должно быть ~0.693)')\n",
    "\n",
    "opt_theta_obj = minimize(lambda th: compute_cost_reg(X, y, th, lamb), init_theta,\n",
    "                         method='CG',\n",
    "                         jac=lambda th: compute_cost_grad_reg(X, y, th, lamb),\n",
    "                         options={'gtol': 1e-5, 'maxiter': 1500, 'disp': False})\n",
    "\n",
    "print('Минимизация функции стоимости ' + ('прошла успешно.' if opt_theta_obj.success else 'не удалась.'))\n",
    "opt_theta = opt_theta_obj.x\n",
    "\n",
    "opt_cost = compute_cost_reg(X, y, opt_theta, lamb)\n",
    "print(f'Функция стоимости при оптимальном theta = {opt_cost} (должно быть ~0.529)')\n",
    "\n",
    "hm = np.zeros((80, 80))\n",
    "for i in range(80):\n",
    "    for j in range(80):\n",
    "        hm[i, j] = round(logistic(opt_theta @ map_features(np.array([1, j / 20 - 2, i / 20 - 2])).transpose())[0])\n",
    "c = plt.pcolor(np.arange(-2, 2, 0.05), np.arange(-2, 2, 0.05), hm, cmap='Greys')\n",
    "plt.colorbar(c)\n",
    "\n",
    "plt.title('Построенная граница решений')\n",
    "plt.scatter(X[y == 0][:, 1], X[y == 0][:, 2], c='r', marker='o')\n",
    "plt.scatter(X[y == 1][:, 1], X[y == 1][:, 2], c='g', marker='x')\n",
    "plt.show()"
   ]
  },
  {
   "cell_type": "code",
   "execution_count": null,
   "id": "6431c127-fdd5-4d6e-aa5c-6d76370f5176",
   "metadata": {},
   "outputs": [],
   "source": []
  },
  {
   "cell_type": "code",
   "execution_count": null,
   "id": "3b79c895-2e71-4b85-946b-0246ee3d7d9e",
   "metadata": {},
   "outputs": [],
   "source": []
  }
 ],
 "metadata": {
  "kernelspec": {
   "display_name": "Python 3 (ipykernel)",
   "language": "python",
   "name": "python3"
  },
  "language_info": {
   "codemirror_mode": {
    "name": "ipython",
    "version": 3
   },
   "file_extension": ".py",
   "mimetype": "text/x-python",
   "name": "python",
   "nbconvert_exporter": "python",
   "pygments_lexer": "ipython3",
   "version": "3.9.7"
  }
 },
 "nbformat": 4,
 "nbformat_minor": 5
}
